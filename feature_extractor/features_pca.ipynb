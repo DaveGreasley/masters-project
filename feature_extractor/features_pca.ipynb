{
 "cells": [
  {
   "cell_type": "code",
   "execution_count": null,
   "metadata": {},
   "outputs": [],
   "source": [
    "import numpy as np\n",
    "import pandas as pd\n",
    "import matplotlib.pyplot as plt\n",
    "\n",
    "from sklearn.preprocessing import StandardScaler\n",
    "from sklearn.decomposition import PCA"
   ]
  },
  {
   "cell_type": "code",
   "execution_count": null,
   "metadata": {},
   "outputs": [],
   "source": [
    "def get_feature_frame(file, benchmarks):\n",
    "    data = pd.read_csv(file, header=None)\n",
    "    data['benchmark'] = benchmarks\n",
    "    return data.set_index('benchmark')\n",
    "    #return data\n",
    "\n",
    "def get_cmap(n, name='hsv'):\n",
    "    '''Returns a function that maps each index in 0, 1, ..., n-1 to a distinct \n",
    "    RGB color; the keyword argument name must be a standard mpl colormap name.'''\n",
    "    return plt.cm.get_cmap(name, n)"
   ]
  },
  {
   "cell_type": "code",
   "execution_count": null,
   "metadata": {},
   "outputs": [],
   "source": [
    "npb = get_feature_frame('NPB/features.csv', ['bt', 'cg', 'ep', 'ft', 'is', 'lu', 'mg', 'sp', 'ua'])\n",
    "spec = get_feature_frame('SPEC/features.csv', ['bwaves', 'botsalgn', 'botsspar', 'fma3d', 'ilbdc', 'md', 'nab', 'smithwa', 'swim'])"
   ]
  },
  {
   "cell_type": "code",
   "execution_count": null,
   "metadata": {},
   "outputs": [],
   "source": [
    "npb.head()"
   ]
  },
  {
   "cell_type": "code",
   "execution_count": null,
   "metadata": {},
   "outputs": [],
   "source": [
    "def visualise_pca(frames, names):\n",
    "    data = pd.concat(frames)\n",
    "    \n",
    "    cmap = get_cmap(len(data))\n",
    "    markers = ['o', 'x']\n",
    "    \n",
    "    # Run PCA\n",
    "    X = StandardScaler().fit_transform(data.values)\n",
    "    pca = PCA(n_components=5)\n",
    "    principal_components = pca.fit_transform(X)\n",
    "    component_labels = ['PC1', 'PC2', 'PC3', 'PC4', 'PC5']\n",
    "\n",
    "    # Generate SCREE Plot\n",
    "    fig = plt.figure(figsize=(16,6))\n",
    "    ax = fig.add_subplot(1, 2, 1)\n",
    "    ax.bar(component_labels, pca.explained_variance_ratio_)\n",
    "    ax.set_title('Explained Variance of Principal Components')\n",
    "    ax.set_xlabel('Principal Component')\n",
    "    ax.set_ylabel('Explained Variance Ratio')\n",
    "    \n",
    "    principal_frame = pd.DataFrame(data=principal_components, columns=component_labels)\n",
    "    \n",
    "    ax = fig.add_subplot(1, 2, 2)\n",
    "    ax.set_xlabel('PC1')\n",
    "    ax.set_ylabel('PC2')\n",
    "    ax.set_title('2 Component PCA for NPB and SPEC using Milepost features')\n",
    "    \n",
    "    start_index = 0\n",
    "    for i in range(len(frames)):\n",
    "        end_index = start_index + len(frames[i])\n",
    "        \n",
    "        ax.scatter(principal_frame.iloc[start_index:end_index]['PC1'], \n",
    "                   principal_frame.iloc[start_index:end_index]['PC2'], \n",
    "                   c=cmap(i),\n",
    "                   marker=markers[i],\n",
    "                   label=names[i])\n",
    "        start_index = end_index\n",
    "        \n",
    "    ax.legend()\n",
    "    "
   ]
  },
  {
   "cell_type": "code",
   "execution_count": null,
   "metadata": {},
   "outputs": [],
   "source": [
    "visualise_pca([npb, spec], ['NPB', 'SPEC'])"
   ]
  },
  {
   "cell_type": "code",
   "execution_count": null,
   "metadata": {},
   "outputs": [],
   "source": [
    "visualise_pca([spec], ['SPEC'])"
   ]
  },
  {
   "cell_type": "code",
   "execution_count": null,
   "metadata": {},
   "outputs": [],
   "source": [
    "visualise_pca([npb], ['NPB'])"
   ]
  },
  {
   "cell_type": "code",
   "execution_count": null,
   "metadata": {},
   "outputs": [],
   "source": [
    "\n",
    "\n",
    "\n",
    "#ax.scatter(principal_frame.iloc[len(npb):len(principal_frame)]['PC1'], principal_frame.iloc[len(npb):len(principal_frame)]['PC2'], label='SPEC')\n",
    "\n",
    "# for i in range(len(principal_frame)):\n",
    "#     benchmark = principal_frame.index[i]\n",
    "#     ax.scatter(principal_frame.loc[benchmark, 'PC1'], principal_frame.loc[benchmark, 'PC2'], c=cmap(i), label=benchmark)\n",
    "\n"
   ]
  }
 ],
 "metadata": {
  "kernelspec": {
   "display_name": "Python 3",
   "language": "python",
   "name": "python3"
  },
  "language_info": {
   "codemirror_mode": {
    "name": "ipython",
    "version": 3
   },
   "file_extension": ".py",
   "mimetype": "text/x-python",
   "name": "python",
   "nbconvert_exporter": "python",
   "pygments_lexer": "ipython3",
   "version": "3.6.4"
  }
 },
 "nbformat": 4,
 "nbformat_minor": 2
}
