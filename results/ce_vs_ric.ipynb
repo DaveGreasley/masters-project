{
 "cells": [
  {
   "cell_type": "code",
   "execution_count": null,
   "metadata": {},
   "outputs": [],
   "source": [
    "import pandas as pd\n",
    "import numpy as np\n",
    "import matplotlib.pyplot as plt\n",
    "from textwrap import wrap\n",
    "\n",
    "# Add parent directory to sys.path in order to find common module\n",
    "import sys\n",
    "sys.path.insert(0,'../')\n",
    "\n",
    "from common.datautils import load_ce_results"
   ]
  },
  {
   "cell_type": "code",
   "execution_count": null,
   "metadata": {},
   "outputs": [],
   "source": [
    "ric_data = pd.read_csv('RIC.results.csv')\n",
    "ric_data.loc[:, 'Energy'] *= 1e-6 # Convert energy to Joules\n",
    "ric_data.loc[:, 'Benchmark'] = ric_data['Benchmark'].str.replace('.x', '')\n",
    "\n",
    "ric_average_data = ric_data.groupby(['Benchmark','Flags', 'RunId'], as_index=False).agg({'Energy':'mean', 'Time':'mean'})\n",
    "ric_average_data.head()"
   ]
  },
  {
   "cell_type": "code",
   "execution_count": null,
   "metadata": {},
   "outputs": [],
   "source": [
    "ce_average_data = load_ce_results('CE.results.zip')\n",
    "ce_average_data.head()"
   ]
  },
  {
   "cell_type": "code",
   "execution_count": null,
   "metadata": {},
   "outputs": [],
   "source": [
    "benchmarks = ric_data[\"Benchmark\"].unique()\n",
    "print(benchmarks)"
   ]
  },
  {
   "cell_type": "code",
   "execution_count": null,
   "metadata": {},
   "outputs": [],
   "source": [
    "def plot_energy_vs_time(benchmark, ce_data, ric_data):\n",
    "    \n",
    "    ric_benchmark_data = ric_data.loc[ric_data[\"Benchmark\"] == benchmark]\n",
    "    ce_benchmark_data = ce_data.loc[ce_data[\"Benchmark\"] == benchmark]\n",
    "    \n",
    "    ric_o3_data = ric_benchmark_data.loc[ric_benchmark_data[\"Flags\"] == \"-O3\"]\n",
    "    ce_o3_data = ce_benchmark_data.loc[ce_benchmark_data[\"Flags\"] == \"-O3\"]\n",
    "    \n",
    "    ric_non_o3_data = ric_benchmark_data.loc[ric_benchmark_data[\"Flags\"] != \"-O3\"]\n",
    "    ce_non_o3_data = ce_benchmark_data.loc[ce_benchmark_data[\"Flags\"] != \"-O3\"]\n",
    "    \n",
    "    ric_X = ric_non_o3_data[\"Time\"].values\n",
    "    ric_Y = ric_non_o3_data[\"Energy\"].values\n",
    "    \n",
    "    ce_X = ce_non_o3_data[\"Time\"].values\n",
    "    ce_Y = ce_non_o3_data[\"Energy\"].values\n",
    "    \n",
    "    plt.figure()\n",
    "    plt.scatter(ce_X, ce_Y, label='CE Configurations')\n",
    "    plt.scatter(ce_o3_data[\"Time\"].values, ce_o3_data[\"Energy\"].values, c='r', label='-O3 (CE Run)')\n",
    "    \n",
    "    plt.scatter(ric_X, ric_Y, label='RIC Configurations')\n",
    "    plt.scatter(ric_o3_data[\"Time\"].values, ric_o3_data[\"Energy\"].values, c='g', label='-O3 (RIC Run)')\n",
    "    \n",
    "    \n",
    "    plt.title('Energy vs Time results for CE and RIC on ' + benchmark)\n",
    "    plt.legend()\n",
    "    plt.xlabel('Time (s)')\n",
    "    plt.ylabel('Energy (J)')\n",
    "    plt.grid()"
   ]
  },
  {
   "cell_type": "code",
   "execution_count": null,
   "metadata": {},
   "outputs": [],
   "source": [
    "for benchmark in benchmarks:\n",
    "    plot_energy_vs_time(benchmark, ce_average_data, ric_average_data)"
   ]
  }
 ],
 "metadata": {
  "kernelspec": {
   "display_name": "Python 3",
   "language": "python",
   "name": "python3"
  },
  "language_info": {
   "codemirror_mode": {
    "name": "ipython",
    "version": 3
   },
   "file_extension": ".py",
   "mimetype": "text/x-python",
   "name": "python",
   "nbconvert_exporter": "python",
   "pygments_lexer": "ipython3",
   "version": "3.6.4"
  }
 },
 "nbformat": 4,
 "nbformat_minor": 2
}
