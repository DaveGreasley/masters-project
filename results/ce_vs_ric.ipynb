{
 "cells": [
  {
   "cell_type": "code",
   "execution_count": null,
   "metadata": {},
   "outputs": [],
   "source": [
    "import pandas as pd\n",
    "import numpy as np\n",
    "import matplotlib.pyplot as plt\n",
    "from textwrap import wrap\n",
    "\n",
    "# Add parent directory to sys.path in order to find common module\n",
    "import sys\n",
    "sys.path.insert(0,'../')\n",
    "\n",
    "import common.datautils as datautils "
   ]
  },
  {
   "cell_type": "code",
   "execution_count": null,
   "metadata": {},
   "outputs": [],
   "source": [
    "ric_data = datautils.load_zip_results('RIC.results.zip', ['Benchmark','Flags', 'RunId', 'Success'])\n",
    "ric_data.head()"
   ]
  },
  {
   "cell_type": "code",
   "execution_count": null,
   "metadata": {},
   "outputs": [],
   "source": [
    "ce_average_data = datautils.load_ce_results('CE.results.zip')\n",
    "ce_average_data.head()"
   ]
  },
  {
   "cell_type": "code",
   "execution_count": null,
   "metadata": {},
   "outputs": [],
   "source": [
    "benchmarks = ric_data[\"Benchmark\"].unique()\n",
    "benchmarks = np.delete(benchmarks, 6) # Remove nab as something wrong with RIC results\n",
    "print(benchmarks)"
   ]
  },
  {
   "cell_type": "code",
   "execution_count": null,
   "metadata": {},
   "outputs": [],
   "source": [
    "def compare():\n",
    "    overview = []\n",
    "\n",
    "    for benchmark in benchmarks:\n",
    "        benchmark_ce_data = ce_average_data[(ce_average_data[\"Benchmark\"] == benchmark) & (ce_average_data[\"Flags\"] != '-O3')]\n",
    "        benchmark_ric_data = ric_data[(ric_data[\"Benchmark\"] == benchmark) & (ric_data[\"Flags\"] != '-O3')]\n",
    "\n",
    "        min_ric_energy = benchmark_ric_data[\"Energy\"].min()\n",
    "        min_ric_time = benchmark_ric_data[\"Time\"].min()\n",
    "        total_ric_time = np.sum(benchmark_ric_data[\"Time\"])\n",
    "\n",
    "        min_ce_energy = benchmark_ce_data[\"Energy\"].min()\n",
    "        min_ce_time = benchmark_ce_data[\"Time\"].min()\n",
    "        total_ce_time = np.sum(benchmark_ce_data[\"Time\"])\n",
    "\n",
    "        overview.append(\n",
    "            [\n",
    "                \n",
    "                np.round(min_ric_energy), \n",
    "                np.round(min_ce_energy),\n",
    "                np.round(min_ric_time, 2),\n",
    "                np.round(min_ce_time, 2),\n",
    "                np.round(total_ric_time / 60 / 60, 2), # Time in hours,\n",
    "                np.round(total_ce_time / 60 / 60, 2) # Time in hours\n",
    "            ]\n",
    "        )\n",
    "\n",
    "    return pd.DataFrame(overview,\n",
    "                        index=benchmarks,\n",
    "                        columns=[\n",
    "                            'Min RIC Energy',\n",
    "                            'Min CE Energy',\n",
    "                            'Min RIC Time',\n",
    "                            'Min CE Time',\n",
    "                            'Total RIC Time',\n",
    "                            'Total CE Time'\n",
    "                        ]\n",
    "                       )\n",
    "overview = compare()\n",
    "overview"
   ]
  },
  {
   "cell_type": "code",
   "execution_count": null,
   "metadata": {},
   "outputs": [],
   "source": [
    "print(f\"Energy CE < RIC: {len(overview[overview['Min CE Energy'] < overview['Min RIC Energy']])}\")\n",
    "print(f\"Time CE < RIC: {len(overview[overview['Min CE Time'] < overview['Min RIC Time']])}\")\n",
    "print(f\"Total Time CE < RIC: {len(overview[overview['Total CE Time'] < overview['Total RIC Time']])}\")"
   ]
  },
  {
   "cell_type": "code",
   "execution_count": null,
   "metadata": {},
   "outputs": [],
   "source": [
    "def plot_energy_vs_time(benchmark, ce_data, ric_data):\n",
    "    \n",
    "    ric_benchmark_data = ric_data.loc[ric_data[\"Benchmark\"] == benchmark]\n",
    "    ce_benchmark_data = ce_data.loc[ce_data[\"Benchmark\"] == benchmark]\n",
    "    \n",
    "    ric_o3_data = ric_benchmark_data.loc[ric_benchmark_data[\"Flags\"] == \"-O3\"]\n",
    "    ce_o3_data = ce_benchmark_data.loc[ce_benchmark_data[\"Flags\"] == \"-O3\"]\n",
    "    \n",
    "    ric_non_o3_data = ric_benchmark_data.loc[ric_benchmark_data[\"Flags\"] != \"-O3\"]\n",
    "    ce_non_o3_data = ce_benchmark_data.loc[ce_benchmark_data[\"Flags\"] != \"-O3\"]\n",
    "    \n",
    "    ric_X = ric_non_o3_data[\"Time\"].values\n",
    "    ric_Y = ric_non_o3_data[\"Energy\"].values\n",
    "    \n",
    "    ce_X = ce_non_o3_data[\"Time\"].values\n",
    "    ce_Y = ce_non_o3_data[\"Energy\"].values\n",
    "    \n",
    "    plt.figure()\n",
    "    plt.scatter(ric_X,\n",
    "                ric_Y,\n",
    "                label='RIC Configurations',\n",
    "                c='C1')\n",
    "\n",
    "    \n",
    "    plt.scatter(ce_X,\n",
    "                ce_Y,\n",
    "                label='CE Configurations',\n",
    "                c='C0')\n",
    "    \n",
    "    \n",
    "    plt.scatter(ce_o3_data[\"Time\"].values,\n",
    "                ce_o3_data[\"Energy\"].values,\n",
    "                c='r',\n",
    "                label='-O3')\n",
    "#     plt.scatter(ric_o3_data[\"Time\"].values,\n",
    "#                 ric_o3_data[\"Energy\"].values,\n",
    "#                 c='g',\n",
    "#                 label='-O3')\n",
    "\n",
    "    \n",
    "    \n",
    "    plt.title('Energy vs Time results for CE and RIC on ' + benchmark)\n",
    "    plt.legend()\n",
    "    plt.xlabel('Time (s)')\n",
    "    plt.ylabel('Energy (J)')\n",
    "    plt.grid()"
   ]
  },
  {
   "cell_type": "code",
   "execution_count": null,
   "metadata": {},
   "outputs": [],
   "source": [
    "for benchmark in benchmarks:\n",
    "    plot_energy_vs_time(benchmark, ce_average_data, ric_data)"
   ]
  }
 ],
 "metadata": {
  "kernelspec": {
   "display_name": "Python 3",
   "language": "python",
   "name": "python3"
  },
  "language_info": {
   "codemirror_mode": {
    "name": "ipython",
    "version": 3
   },
   "file_extension": ".py",
   "mimetype": "text/x-python",
   "name": "python",
   "nbconvert_exporter": "python",
   "pygments_lexer": "ipython3",
   "version": "3.6.4"
  }
 },
 "nbformat": 4,
 "nbformat_minor": 2
}
