{
 "cells": [
  {
   "cell_type": "code",
   "execution_count": null,
   "metadata": {},
   "outputs": [],
   "source": [
    "import pandas as pd\n",
    "import numpy as np\n",
    "import matplotlib.pyplot as plt\n",
    "from textwrap import wrap\n",
    "\n",
    "# Add parent directory to sys.path in order to find common module\n",
    "import sys\n",
    "sys.path.insert(0,'../')\n",
    "\n",
    "import common.datautils as datautils"
   ]
  },
  {
   "cell_type": "code",
   "execution_count": null,
   "metadata": {},
   "outputs": [],
   "source": [
    "average_data = datautils.load_ce_results('CE.results.zip')\n",
    "average_data.head()"
   ]
  },
  {
   "cell_type": "code",
   "execution_count": null,
   "metadata": {},
   "outputs": [],
   "source": [
    "benchmarks = average_data[\"Benchmark\"].unique()\n",
    "print(benchmarks)"
   ]
  },
  {
   "cell_type": "code",
   "execution_count": null,
   "metadata": {},
   "outputs": [],
   "source": [
    "for benchmark in benchmarks:\n",
    "    benchmark_data = average_data[average_data[\"Benchmark\"] == benchmark].sort_values('RunId')\n",
    "    \n",
    "    configs_with_increase = 0\n",
    "    configs_with_decrease = 0\n",
    "    \n",
    "    baseline_indexes = benchmark_data[benchmark_data[\"Type\"].isin(['initial', 'baseline'])].index.values\n",
    "    for i in range(len(baseline_indexes)):\n",
    "        test_start_index = baseline_indexes[i] + 1\n",
    "        if i == len(baseline_indexes) - 1:\n",
    "            test_end_index = -1\n",
    "        else:\n",
    "            test_end_index = baseline_indexes[i + 1]\n",
    "        \n",
    "        test_data = benchmark_data[test_start_index:test_end_index]\n",
    "        print(len(test_data))\n",
    "        \n",
    "        configs_with_increase += len(test_data[test_data[\"Energy\"] < benchmark_data.loc[baseline_indexes[i]][\"Energy\"]])\n",
    "        configs_with_decrease += len(test_data[test_data[\"Energy\"] > benchmark_data.loc[baseline_indexes[i]][\"Energy\"]])\n",
    "    \n",
    "    print(benchmark)\n",
    "    print(\"Increase: \" + str(configs_with_increase))\n",
    "    print(\"Decrease: \" + str(configs_with_decrease))\n",
    "    print(\"Total: \" + str(len(benchmark_data)))\n",
    "    print(\"\")\n"
   ]
  }
 ],
 "metadata": {
  "kernelspec": {
   "display_name": "Python 3",
   "language": "python",
   "name": "python3"
  },
  "language_info": {
   "codemirror_mode": {
    "name": "ipython",
    "version": 3
   },
   "file_extension": ".py",
   "mimetype": "text/x-python",
   "name": "python",
   "nbconvert_exporter": "python",
   "pygments_lexer": "ipython3",
   "version": "3.6.4"
  }
 },
 "nbformat": 4,
 "nbformat_minor": 2
}
