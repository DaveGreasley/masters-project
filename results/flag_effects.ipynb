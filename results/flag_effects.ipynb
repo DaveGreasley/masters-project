{
 "cells": [
  {
   "cell_type": "code",
   "execution_count": null,
   "metadata": {},
   "outputs": [],
   "source": [
    "import numpy as np\n",
    "import pandas as pd\n",
    "import matplotlib.pyplot as plt\n",
    "\n",
    "# Add parent directory to sys.path in order to find common module\n",
    "import sys\n",
    "sys.path.insert(0,'../')\n",
    "\n",
    "import common.datautils as datautils\n",
    "import common.featuresutils as featuresutils"
   ]
  },
  {
   "cell_type": "code",
   "execution_count": null,
   "metadata": {},
   "outputs": [],
   "source": [
    "flag_effect_data = datautils.load_csv_results(\n",
    "    'flag_effects.csv',\n",
    "    ['Benchmark','DisabledFlag', 'Flags', 'Success']\n",
    ")\n",
    "flag_effect_data = flag_effect_data[flag_effect_data[\"DisabledFlag\"] != '-O3']\n",
    "\n",
    "flag_effect_data.head()"
   ]
  },
  {
   "cell_type": "code",
   "execution_count": null,
   "metadata": {},
   "outputs": [],
   "source": [
    "benchmarks = flag_effect_data[\"Benchmark\"].unique()\n",
    "print(benchmarks)"
   ]
  },
  {
   "cell_type": "code",
   "execution_count": null,
   "metadata": {},
   "outputs": [],
   "source": [
    "ce_data = datautils.load_ce_results('CE.results.zip')\n",
    "best_known = []\n",
    "\n",
    "for benchmark in benchmarks:\n",
    "    best_known.append(datautils.best_configuration_data('Energy', benchmark, ce_data, ['Benchmark', 'Flags', 'Energy', 'Time']))\n",
    "    \n",
    "best_known = pd.DataFrame(best_known)\n",
    "best_known.set_index('Benchmark', drop=True, inplace=True)    "
   ]
  },
  {
   "cell_type": "code",
   "execution_count": null,
   "metadata": {},
   "outputs": [],
   "source": [
    "improvement_factor = 0.2\n"
   ]
  },
  {
   "cell_type": "code",
   "execution_count": null,
   "metadata": {},
   "outputs": [],
   "source": [
    "def flag_relative_data():\n",
    "    relative_flag_effects = flag_effect_data.copy()\n",
    "\n",
    "    for benchmark in benchmarks:\n",
    "        benchmark_data = relative_flag_effects[relative_flag_effects[\"Benchmark\"] == benchmark]\n",
    "        \n",
    "        best_known_energy = best_known.loc[benchmark]['Energy']\n",
    "        best_known_time = best_known.loc[benchmark]['Time']\n",
    "\n",
    "        relative_flag_effects.loc[relative_flag_effects[\"Benchmark\"] == benchmark, \"Energy\"] = best_known_energy / benchmark_data[\"Energy\"]\n",
    "        relative_flag_effects.loc[relative_flag_effects[\"Benchmark\"] == benchmark, \"Time\"] = best_known_time / benchmark_data[\"Time\"]\n",
    "\n",
    "        \n",
    "    relative_flag_effects.loc[:, 'Energy'] = (1 - np.round(relative_flag_effects[\"Energy\"], 2)) * 100\n",
    "    relative_flag_effects.loc[:, 'Time'] = (1 - np.round(relative_flag_effects[\"Time\"], 2)) * 100\n",
    "    \n",
    "    return relative_flag_effects\n",
    "\n",
    "relative_data = flag_relative_data()"
   ]
  },
  {
   "cell_type": "code",
   "execution_count": null,
   "metadata": {},
   "outputs": [],
   "source": [
    "average_data = relative_data.groupby(['DisabledFlag', 'Success'], as_index=False).agg({'Energy':'mean', 'Time':'mean'})\n",
    "average_data[(average_data[\"Energy\"] > average_data[\"Time\"]) & (average_data[\"Time\"] > 0)].sort_values(['Energy', 'Time'], ascending=False).head(20)"
   ]
  }
 ],
 "metadata": {
  "kernelspec": {
   "display_name": "Python 3",
   "language": "python",
   "name": "python3"
  },
  "language_info": {
   "codemirror_mode": {
    "name": "ipython",
    "version": 3
   },
   "file_extension": ".py",
   "mimetype": "text/x-python",
   "name": "python",
   "nbconvert_exporter": "python",
   "pygments_lexer": "ipython3",
   "version": "3.6.4"
  }
 },
 "nbformat": 4,
 "nbformat_minor": 2
}
