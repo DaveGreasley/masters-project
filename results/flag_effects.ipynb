{
 "cells": [
  {
   "cell_type": "code",
   "execution_count": null,
   "metadata": {},
   "outputs": [],
   "source": [
    "import numpy as np\n",
    "import pandas as pd\n",
    "import matplotlib.pyplot as plt\n",
    "\n",
    "# Add parent directory to sys.path in order to find common module\n",
    "import sys\n",
    "sys.path.insert(0,'../')\n",
    "\n",
    "import common.datautils as datautils"
   ]
  },
  {
   "cell_type": "code",
   "execution_count": null,
   "metadata": {},
   "outputs": [],
   "source": [
    "data = pd.read_csv('flag_effects.20180828-232133.csv')\n",
    "data.loc[:, 'Energy'] *= 1e-6 # Convert energy to Joules\n",
    "flag_effect_data = data.groupby(['Benchmark','DisabledFlag', 'Flags', 'Success'], as_index=False).agg({'Energy':'mean', 'Time':'mean'})\n",
    "flag_effect_data.loc[:, 'Benchmark'] = flag_effect_data['Benchmark'].str.lower()\n",
    "flag_effect_data = flag_effect_data[flag_effect_data[\"DisabledFlag\"] != '-O3']\n",
    "flag_effect_data.head()"
   ]
  },
  {
   "cell_type": "code",
   "execution_count": null,
   "metadata": {},
   "outputs": [],
   "source": [
    "benchmarks = flag_effect_data[\"Benchmark\"].unique()\n",
    "print(benchmarks)"
   ]
  },
  {
   "cell_type": "code",
   "execution_count": null,
   "metadata": {},
   "outputs": [],
   "source": [
    "ce_data = datautils.load_ce_results('CE.results.zip')\n",
    "best_known = []\n",
    "\n",
    "for benchmark in benchmarks:\n",
    "    best_known.append(datautils.best_configuration_data('Energy', benchmark, ce_data, ['Benchmark', 'Flags', 'Energy', 'Time']))\n",
    "    \n",
    "best_known = pd.DataFrame(best_known)\n",
    "best_known.loc[:, 'Benchmark'] = best_known['Benchmark'].str.lower()\n",
    "best_known.set_index('Benchmark', drop=True, inplace=True)    "
   ]
  },
  {
   "cell_type": "code",
   "execution_count": null,
   "metadata": {},
   "outputs": [],
   "source": [
    "for benchmark in benchmarks:\n",
    "    print(benchmark)\n",
    "    \n",
    "    benchmark_data = flag_effect_data[flag_effect_data[\"Benchmark\"] == benchmark]\n",
    "    \n",
    "    best_known_energy = best_known.loc[benchmark]['Energy']\n",
    "    best_known_time = best_known.loc[benchmark]['Time']\n",
    "    \n",
    "    # Remember! Flags that have a positive effect when removed are actually negative\n",
    "    negative_effect_time = benchmark_data[benchmark_data[\"Time\"] / best_known_time < 0.95] \n",
    "    print(\"Negative Effect on Time:\")\n",
    "    print(negative_effect_time[\"DisabledFlag\"].values)\n",
    "    print(\"\")\n",
    "    \n",
    "    negative_effect_energy = benchmark_data[benchmark_data[\"Energy\"] / best_known_energy < 0.95]\n",
    "    print(\"Negative Effect on Energy:\")\n",
    "    print(negative_effect_energy[\"DisabledFlag\"].values)\n",
    "    \n",
    "    print(\"------\\n\")\n"
   ]
  },
  {
   "cell_type": "code",
   "execution_count": null,
   "metadata": {},
   "outputs": [],
   "source": [
    "for benchmark in benchmarks:\n",
    "    print(benchmark)\n",
    "    \n",
    "    benchmark_data = flag_effect_data[flag_effect_data[\"Benchmark\"] == benchmark]\n",
    "    \n",
    "    best_known_energy = best_known.loc[benchmark]['Energy']\n",
    "    best_known_time = best_known.loc[benchmark]['Time']\n",
    "    \n",
    "    improvement_factor = 0.05\n",
    "    \n",
    "    # Remember! Flags that have a positive effect when removed are actually negative\n",
    "    positive_effect_time = benchmark_data[benchmark_data[\"Time\"] / best_known_time > (1 + improvement_factor)]\n",
    "    print(\"Positive Effect on Time:\")\n",
    "    print(positive_effect_time[\"DisabledFlag\"].values)\n",
    "    print(\"\")\n",
    "    \n",
    "    # Remember! Flags that have a positive effect when removed are actually negative\n",
    "    positive_effect_energy = benchmark_data[benchmark_data[\"Energy\"] / best_known_energy > (1 + improvement_factor)]\n",
    "    print(\"Positive Effect on Energy:\")\n",
    "    print(positive_effect_energy[\"DisabledFlag\"].values)\n",
    "    \n",
    "    print(\"------\\n\")\n"
   ]
  }
 ],
 "metadata": {
  "kernelspec": {
   "display_name": "Python 3",
   "language": "python",
   "name": "python3"
  },
  "language_info": {
   "codemirror_mode": {
    "name": "ipython",
    "version": 3
   },
   "file_extension": ".py",
   "mimetype": "text/x-python",
   "name": "python",
   "nbconvert_exporter": "python",
   "pygments_lexer": "ipython3",
   "version": "3.6.4"
  }
 },
 "nbformat": 4,
 "nbformat_minor": 2
}
