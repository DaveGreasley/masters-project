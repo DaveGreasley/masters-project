{
 "cells": [
  {
   "cell_type": "code",
   "execution_count": null,
   "metadata": {},
   "outputs": [],
   "source": [
    "import numpy as np\n",
    "import pandas as pd\n",
    "\n",
    "# Add parent directory to sys.path in order to find common module\n",
    "import sys\n",
    "sys.path.insert(0,'../')\n",
    "\n",
    "import common.datautils as datautils\n",
    "import common.flagutils as flagutils"
   ]
  },
  {
   "cell_type": "code",
   "execution_count": null,
   "metadata": {},
   "outputs": [],
   "source": [
    "#ric_data = pd.read_csv('RIC.20180831-013501.csv')\n",
    "ric_data = pd.read_csv('RIC.results.csv')\n",
    "ric_data.loc[:, 'Energy'] *= 1e-6 # Convert energy to Joules\n",
    "ric_data.loc[:, 'Benchmark'] = ric_data['Benchmark'].str.replace('.x', '')\n",
    "ric_data.loc[:, 'Flags'] = ric_data[\"Flags\"].str.strip()\n",
    "\n",
    "ric_average_data = ric_data.groupby(['Benchmark','Flags', 'RunId'], as_index=False).agg({'Energy':'mean', 'Time':'mean'})\n",
    "ric_average_data.head()"
   ]
  },
  {
   "cell_type": "code",
   "execution_count": null,
   "metadata": {},
   "outputs": [],
   "source": [
    "test_configs = pd.read_csv('../scripts/random_configs_1000.csv', header=None, names=['Flags'])\n",
    "test_configs.loc[:, 'Flags'] = test_configs[\"Flags\"].str.strip()\n",
    "test_configs.head()"
   ]
  },
  {
   "cell_type": "code",
   "execution_count": null,
   "metadata": {},
   "outputs": [],
   "source": [
    "print(len(test_configs.Flags.unique()))"
   ]
  },
  {
   "cell_type": "code",
   "execution_count": null,
   "metadata": {},
   "outputs": [],
   "source": [
    "all_flags = flagutils.load_flag_list()\n",
    "print(len(all_flags))"
   ]
  },
  {
   "cell_type": "code",
   "execution_count": null,
   "metadata": {},
   "outputs": [],
   "source": [
    "benchmarks = ric_average_data[\"Benchmark\"].unique()\n",
    "print(benchmarks)"
   ]
  },
  {
   "cell_type": "code",
   "execution_count": null,
   "metadata": {},
   "outputs": [],
   "source": [
    "for benchmark in benchmarks:\n",
    "    benchmark_data = ric_average_data[ric_average_data[\"Benchmark\"] == benchmark]\n",
    "    \n",
    "    good_configs = benchmark_data[\"Flags\"].unique()\n",
    "    bad_configs = [c.split(' ') for c in test_configs[\"Flags\"].unique() if c not in good_configs]\n",
    "    print(len(good_configs))\n",
    "    print(len(bad_configs))\n",
    "    \n",
    "    common_bad_flags = set(bad_configs[0]).intersection(*bad_configs)\n",
    "    print(common_bad_flags)"
   ]
  },
  {
   "cell_type": "code",
   "execution_count": null,
   "metadata": {},
   "outputs": [],
   "source": [
    "for benchmark in benchmarks:\n",
    "    benchmark_data = ric_average_data[ric_average_data[\"Benchmark\"] == benchmark]\n",
    "    \n",
    "    good_configs = benchmark_data[\"Flags\"].unique()\n",
    "    bad_configs = [c.split(' ') for c in test_configs[\"Flags\"].unique() if c not in good_configs]\n",
    "    \n",
    "    flag_counts = []\n",
    "    \n",
    "    for flag in all_flags:\n",
    "        count = 0\n",
    "        for config in bad_configs:\n",
    "            if (flag in config) or (\"-fno-\" + flag[2:] in config):\n",
    "                count += 1\n",
    "    \n",
    "        flag_counts.append((flag, count))\n",
    "        \n",
    "    flag_counts = sorted(flag_counts, key=lambda x: x[1])\n",
    "    print(benchmark)\n",
    "    print(flag_counts[0:5])\n",
    "    print(\"\")"
   ]
  }
 ],
 "metadata": {
  "kernelspec": {
   "display_name": "Python 3",
   "language": "python",
   "name": "python3"
  },
  "language_info": {
   "codemirror_mode": {
    "name": "ipython",
    "version": 3
   },
   "file_extension": ".py",
   "mimetype": "text/x-python",
   "name": "python",
   "nbconvert_exporter": "python",
   "pygments_lexer": "ipython3",
   "version": "3.6.4"
  }
 },
 "nbformat": 4,
 "nbformat_minor": 2
}
