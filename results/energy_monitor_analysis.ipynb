{
 "cells": [
  {
   "cell_type": "code",
   "execution_count": null,
   "metadata": {},
   "outputs": [],
   "source": [
    "import numpy as np\n",
    "import pandas as pd\n",
    "import matplotlib.pyplot as plt\n",
    "from textwrap import wrap"
   ]
  },
  {
   "cell_type": "code",
   "execution_count": null,
   "metadata": {},
   "outputs": [],
   "source": [
    "v1_data = pd.read_csv('energy_monitor_v1.csv')\n",
    "v1_data.loc[:, 'Energy'] *= 1e-6 # Convert energy to Joules\n",
    "\n",
    "v2_data = pd.read_csv('energy_monitor_v2.csv')\n",
    "v2_data.loc[:, 'Energy'] *= 1e-6 # Convert energy to Joules\n",
    "\n",
    "v2_data.head()"
   ]
  },
  {
   "cell_type": "code",
   "execution_count": null,
   "metadata": {},
   "outputs": [],
   "source": [
    "plt.figure()\n",
    "plt.scatter(v1_data['Time'].values, v1_data['Energy'].values,\n",
    "           marker='x',\n",
    "           label='Version 1')\n",
    "plt.scatter(v2_data['Time'].values, v2_data['Energy'].values,\n",
    "           marker='x',\n",
    "           label='Version 2')\n",
    "plt.title('\\n'.join(wrap('Results from two versions of Energy Monitor running \\'sleep 5\\' command.', 55)))\n",
    "plt.xlabel('Time (s)')\n",
    "plt.ylabel('Energy (uJ)')\n",
    "plt.legend()"
   ]
  },
  {
   "cell_type": "code",
   "execution_count": null,
   "metadata": {},
   "outputs": [],
   "source": [
    "node_comparison_data = pd.read_csv('node_energy_variation.csv')\n",
    "node_comparison_data.loc[:, 'Energy'] *= 1e-6 # Convert energy to Joules\n",
    "\n",
    "average_data = node_comparison_data.groupby(['Machine'], as_index=False).agg({'Energy':'mean', 'Time':'mean'})\n",
    "average_data.head()"
   ]
  },
  {
   "cell_type": "code",
   "execution_count": null,
   "metadata": {},
   "outputs": [],
   "source": [
    "machine_ids = node_comparison_data[\"Machine\"].unique()\n",
    "print(machine_ids)"
   ]
  },
  {
   "cell_type": "code",
   "execution_count": null,
   "metadata": {},
   "outputs": [],
   "source": [
    "plt.figure()\n",
    "\n",
    "for machine_id in machine_ids:\n",
    "    machine_data = average_data[average_data[\"Machine\"] == machine_id]\n",
    "    plt.scatter(machine_data['Time'].values, machine_data['Energy'].values,\n",
    "               label=machine_id)\n",
    "\n",
    "plt.title('\\n'.join(wrap('Results from two versions of Energy Monitor running \\'sleep 5\\' command.', 55)))\n",
    "plt.xlabel('Time (s)')\n",
    "plt.ylabel('Energy (J)')\n",
    "plt.legend()"
   ]
  },
  {
   "cell_type": "code",
   "execution_count": null,
   "metadata": {},
   "outputs": [],
   "source": [
    "plt.figure()\n",
    "\n",
    "for machine_id in machine_ids:\n",
    "    machine_data = node_comparison_data[node_comparison_data[\"Machine\"] == machine_id]\n",
    "    plt.scatter(machine_data['Time'].values, machine_data['Energy'].values,\n",
    "               label=machine_id)\n",
    "\n",
    "plt.title('\\n'.join(wrap('Results from two versions of Energy Monitor running \\'sleep 5\\' command.', 55)))\n",
    "plt.xlabel('Time (s)')\n",
    "plt.ylabel('Energy (J)')\n",
    "plt.legend()"
   ]
  }
 ],
 "metadata": {
  "kernelspec": {
   "display_name": "Python with Pixiedust (Spark 2.2)",
   "language": "python",
   "name": "pythonwithpixiedustspark22"
  },
  "language_info": {
   "codemirror_mode": {
    "name": "ipython",
    "version": 3
   },
   "file_extension": ".py",
   "mimetype": "text/x-python",
   "name": "python",
   "nbconvert_exporter": "python",
   "pygments_lexer": "ipython3",
   "version": "3.6.4"
  }
 },
 "nbformat": 4,
 "nbformat_minor": 2
}
