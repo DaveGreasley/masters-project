{
 "cells": [
  {
   "cell_type": "code",
   "execution_count": null,
   "metadata": {},
   "outputs": [],
   "source": [
    "import numpy as np\n",
    "import pandas as pd\n",
    "import matplotlib.pyplot as plt\n",
    "from textwrap import wrap"
   ]
  },
  {
   "cell_type": "code",
   "execution_count": null,
   "metadata": {},
   "outputs": [],
   "source": [
    "v1_data = pd.read_csv('energy_monitor_v1.csv')\n",
    "v2_data = pd.read_csv('energy_monitor_v2.csv')\n",
    "v2_data.head()"
   ]
  },
  {
   "cell_type": "code",
   "execution_count": null,
   "metadata": {},
   "outputs": [],
   "source": [
    "plt.figure()\n",
    "plt.scatter(v1_data['Time'].values, v1_data['Energy'].values,\n",
    "           marker='x',\n",
    "           label='Version 1')\n",
    "plt.scatter(v2_data['Time'].values, v2_data['Energy'].values,\n",
    "           marker='x',\n",
    "           label='Version 2')\n",
    "plt.title('\\n'.join(wrap('Results from two versions of Energy Monitor running \\'sleep 5\\' command.', 55)))\n",
    "plt.xlabel('Time (s)')\n",
    "plt.ylabel('Energy (uJ)')\n",
    "plt.legend()"
   ]
  },
  {
   "cell_type": "code",
   "execution_count": null,
   "metadata": {},
   "outputs": [],
   "source": [
    "fig = plt.figure(figsize=(6,10))\n",
    "ax1 = fig.add_subplot(211)\n",
    "ax1.scatter(v1_data['Time'].values, v1_data['Energy'].values)\n",
    "ax1.set_title('Energy vs Time for Version 1 of Energy Monitor')\n",
    "ax1.set_xlabel('Time (s)')\n",
    "ax1.set_ylabel('Energy (uJ)')\n",
    "\n",
    "ax2 = fig.add_subplot(212, sharex=ax1, sharey=ax1)\n",
    "ax2.scatter(v2_data['Time'].values, v2_data['Energy'].values)\n",
    "ax2.set_title('Energy vs Time for Version 2 of Energy Monitor')\n",
    "ax2.set_xlabel('Time (s)')\n",
    "ax2.set_ylabel('Energy (uJ)')"
   ]
  }
 ],
 "metadata": {
  "kernelspec": {
   "display_name": "Python with Pixiedust (Spark 2.2)",
   "language": "python",
   "name": "pythonwithpixiedustspark22"
  },
  "language_info": {
   "codemirror_mode": {
    "name": "ipython",
    "version": 3
   },
   "file_extension": ".py",
   "mimetype": "text/x-python",
   "name": "python",
   "nbconvert_exporter": "python",
   "pygments_lexer": "ipython3",
   "version": "3.6.4"
  }
 },
 "nbformat": 4,
 "nbformat_minor": 2
}
