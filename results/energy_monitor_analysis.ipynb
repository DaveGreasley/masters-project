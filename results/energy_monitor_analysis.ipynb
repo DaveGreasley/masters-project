{
 "cells": [
  {
   "cell_type": "code",
   "execution_count": null,
   "metadata": {},
   "outputs": [],
   "source": [
    "import numpy as np\n",
    "import pandas as pd\n",
    "import matplotlib.pyplot as plt"
   ]
  },
  {
   "cell_type": "code",
   "execution_count": null,
   "metadata": {},
   "outputs": [],
   "source": [
    "v1_data = pd.read_csv('energy_monitor_v1.csv')\n",
    "v2_data = pd.read_csv('energy_monitor_v2.csv')\n",
    "v2_data.head()"
   ]
  },
  {
   "cell_type": "code",
   "execution_count": null,
   "metadata": {},
   "outputs": [],
   "source": [
    "fig = plt.figure(figsize=(16,6))\n",
    "ax1 = fig.add_subplot(121)\n",
    "ax1.scatter(v1_data['Time'].values, v1_data['Energy'].values)\n",
    "ax1.set_xlabel('Time (s)')\n",
    "ax1.set_ylabel('Energy (uJ)')\n",
    "\n",
    "ax2 = fig.add_subplot(122, sharex=ax1, sharey=ax1)\n",
    "ax2.scatter(v2_data['Time'].values, v2_data['Energy'].values)\n",
    "ax2.set_xlabel('Time (s)')\n",
    "ax2.set_ylabel('Energy (uJ)')"
   ]
  }
 ],
 "metadata": {
  "kernelspec": {
   "display_name": "Python with Pixiedust (Spark 2.2)",
   "language": "python",
   "name": "pythonwithpixiedustspark22"
  },
  "language_info": {
   "codemirror_mode": {
    "name": "ipython",
    "version": 3
   },
   "file_extension": ".py",
   "mimetype": "text/x-python",
   "name": "python",
   "nbconvert_exporter": "python",
   "pygments_lexer": "ipython3",
   "version": "3.6.4"
  }
 },
 "nbformat": 4,
 "nbformat_minor": 2
}
