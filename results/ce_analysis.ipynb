{
 "cells": [
  {
   "cell_type": "code",
   "execution_count": null,
   "metadata": {},
   "outputs": [],
   "source": [
    "import pandas as pd\n",
    "import numpy as np\n",
    "import matplotlib.pyplot as plt\n",
    "from textwrap import wrap\n",
    "\n",
    "# Add parent directory to sys.path in order to find common module\n",
    "import sys\n",
    "sys.path.insert(0,'../')\n",
    "\n",
    "import common.datautils as datautils"
   ]
  },
  {
   "cell_type": "code",
   "execution_count": null,
   "metadata": {},
   "outputs": [],
   "source": [
    "average_data = datautils.load_ce_results('CE.results.zip')\n",
    "average_data.head()"
   ]
  },
  {
   "cell_type": "code",
   "execution_count": null,
   "metadata": {},
   "outputs": [],
   "source": [
    "benchmarks = average_data[\"Benchmark\"].unique()\n",
    "print(benchmarks)"
   ]
  },
  {
   "cell_type": "markdown",
   "metadata": {},
   "source": [
    "### Find best configuration for Energy"
   ]
  },
  {
   "cell_type": "code",
   "execution_count": null,
   "metadata": {},
   "outputs": [],
   "source": [
    "# for benchmark in benchmarks:\n",
    "#     print(benchmark)\n",
    "#     print(best_configuration('Energy', benchmark, average_data))\n",
    "#     print('-----')"
   ]
  },
  {
   "cell_type": "markdown",
   "metadata": {},
   "source": [
    "### Compare Energy vs Time"
   ]
  },
  {
   "cell_type": "code",
   "execution_count": null,
   "metadata": {},
   "outputs": [],
   "source": [
    "def plot_energy_vs_time(benchmark, data):\n",
    "    benchmark_data = data.loc[data[\"Benchmark\"] == benchmark]\n",
    "    o3_data = benchmark_data.loc[benchmark_data[\"Flags\"] == \"-O3\"]\n",
    "    non_o3_data = benchmark_data.loc[benchmark_data[\"Flags\"] != \"-O3\"]\n",
    "    \n",
    "    X = non_o3_data[\"Time\"].values\n",
    "    Y = non_o3_data[\"Energy\"].values\n",
    "    \n",
    "    plt.figure()\n",
    "    plt.scatter(X, Y, label='CE Configurations')\n",
    "    plt.scatter(o3_data[\"Time\"].values, o3_data[\"Energy\"].values, c='r', label='-O3')\n",
    "    plt.title('Energy vs Time results for CE on ' + benchmark)\n",
    "    plt.legend()\n",
    "    plt.grid()\n",
    "    plt.xlabel('Time (s)')\n",
    "    plt.ylabel('Energy (J)')"
   ]
  },
  {
   "cell_type": "code",
   "execution_count": null,
   "metadata": {},
   "outputs": [],
   "source": [
    "print(len(benchmarks))"
   ]
  },
  {
   "cell_type": "code",
   "execution_count": null,
   "metadata": {},
   "outputs": [],
   "source": [
    "for benchmark in benchmarks:\n",
    "    plot_energy_vs_time(benchmark, average_data)"
   ]
  },
  {
   "cell_type": "markdown",
   "metadata": {},
   "source": [
    "### Percentage Improvements"
   ]
  },
  {
   "cell_type": "code",
   "execution_count": null,
   "metadata": {},
   "outputs": [],
   "source": [
    "def improvement_data_frame(data):\n",
    "    improvement = []\n",
    "    \n",
    "    for benchmark in benchmarks:\n",
    "        benchmark_data = data[data[\"Benchmark\"] == benchmark]\n",
    "\n",
    "        initial_data = benchmark_data[benchmark_data[\"Flags\"] == '-O3']\n",
    "        initial_energy = initial_data.iloc[0][\"Energy\"]\n",
    "        initial_time = initial_data.iloc[0][\"Time\"]\n",
    "\n",
    "        baseline_data = benchmark_data[benchmark_data[\"Type\"] == 'baseline']\n",
    "        if len(baseline_data) > 0:\n",
    "            final_baseline_index = baseline_data[\"RunId\"].idxmax()\n",
    "            final_energy = baseline_data.loc[final_baseline_index][\"Energy\"]\n",
    "            final_time = baseline_data.loc[final_baseline_index][\"Time\"]\n",
    "        else:\n",
    "            final_energy = initial_energy\n",
    "            final_time = initial_time\n",
    "    \n",
    "        energy_improvement = (1 - final_energy / initial_energy) * 100\n",
    "        time_improvement = (1 - final_time / initial_time )  * 100\n",
    "        time_speedup = initial_time / final_time \n",
    "        \n",
    "        improvement.append(\n",
    "            {\n",
    "                'Benchmark': benchmark,\n",
    "                'Energy Improvement': energy_improvement,\n",
    "                'Time Improvement': time_improvement,\n",
    "                'Time speedup': time_speedup\n",
    "            })\n",
    "    \n",
    "    return pd.DataFrame(improvement)\n",
    "\n",
    "# improvement_data_frame(average_data)"
   ]
  },
  {
   "cell_type": "code",
   "execution_count": null,
   "metadata": {},
   "outputs": [],
   "source": [
    "improvement = improvement_data_frame(average_data)\n",
    "improvement"
   ]
  },
  {
   "cell_type": "markdown",
   "metadata": {},
   "source": [
    "### Compare Baseline Updates"
   ]
  },
  {
   "cell_type": "code",
   "execution_count": null,
   "metadata": {},
   "outputs": [],
   "source": [
    "def plot_energy_vs_runs(benchmark, data):\n",
    "    benchmark_data = data.loc[(data[\"Benchmark\"] == benchmark) & ((data[\"Type\"] == 'baseline') | (data[\"Type\"] == 'initial'))].sort_values('RunId')\n",
    "    \n",
    "    X = np.arange(1, len(benchmark_data) + 1)\n",
    "    Y = benchmark_data[\"Energy\"].values\n",
    "    \n",
    "    plt.figure()\n",
    "    plt.plot(X, Y)\n",
    "    plt.title('\\n'.join(wrap('Energy vs Baseline Number for Combined Elimination on ' + benchmark, 50)))\n",
    "    plt.xlabel('Baseline Number')\n",
    "    plt.ylabel('Energy (J)')\n",
    "    plt.grid()"
   ]
  },
  {
   "cell_type": "code",
   "execution_count": null,
   "metadata": {},
   "outputs": [],
   "source": [
    "for benchmark in benchmarks:\n",
    "    plot_energy_vs_runs(benchmark, average_data)"
   ]
  },
  {
   "cell_type": "markdown",
   "metadata": {},
   "source": [
    "### Compare best improvement of Energy and time to O3 baseline"
   ]
  },
  {
   "cell_type": "code",
   "execution_count": null,
   "metadata": {},
   "outputs": [],
   "source": [
    "def o3_relative_data(average_data, benchmarks):\n",
    "    o3_data = average_data.loc[average_data[\"Flags\"] == \"-O3\"]\n",
    "    \n",
    "    relative_data = average_data.copy(deep=True)\n",
    "    \n",
    "    for benchmark in benchmarks:\n",
    "        o3 = o3_data.loc[relative_data[\"Benchmark\"] == benchmark]\n",
    "        o3_energy = o3.iloc[0][\"Energy\"]\n",
    "        o3_time = o3.iloc[0][\"Time\"]\n",
    "\n",
    "        relative_data.loc[relative_data[\"Benchmark\"] == benchmark, \"Energy\"] /= o3_energy\n",
    "        relative_data.loc[relative_data[\"Benchmark\"] == benchmark, \"Time\"] /= o3_time\n",
    "\n",
    "    return relative_data\n"
   ]
  },
  {
   "cell_type": "code",
   "execution_count": null,
   "metadata": {},
   "outputs": [],
   "source": [
    "relative_data = o3_relative_data(average_data, benchmarks)"
   ]
  },
  {
   "cell_type": "code",
   "execution_count": null,
   "metadata": {},
   "outputs": [],
   "source": [
    "def plot_relative_to_o3(variable, relative_data, benchmarks):\n",
    "    X = benchmarks\n",
    "    Y = [relative_data.loc[relative_data[\"Benchmark\"] == benchmark, variable].min() for benchmark in benchmarks]\n",
    "\n",
    "    plt.figure(figsize=(8,6))\n",
    "    plt.scatter(X, Y, marker='x', label='CE')\n",
    "    plt.axhline(1, label='O3')\n",
    "    \n",
    "    plt.title('Best improvement of ' + variable + ' relative to -O3 found be CE.')\n",
    "    plt.ylabel(variable + ' (relative to -O3)')\n",
    "    plt.xticks(rotation=90)\n",
    "    plt.legend()\n",
    "    \n",
    "def double_plot_relative_to_o3(relative_data, benchmarks):\n",
    "    X = benchmarks\n",
    "    energy = [relative_data.loc[relative_data[\"Benchmark\"] == benchmark, 'Energy'].min() for benchmark in benchmarks]\n",
    "    time = [relative_data.loc[relative_data[\"Benchmark\"] == benchmark, 'Time'].min() for benchmark in benchmarks]\n",
    "    \n",
    "\n",
    "    plt.figure(figsize=(8, 6))\n",
    "    plt.scatter(X, energy, marker='o', label='Energy')\n",
    "    plt.scatter(X, time, marker='x', label='Energy')\n",
    "    \n",
    "    plt.axhline(1, label='O3')\n",
    "    \n",
    "    plt.title('\\n'.join(wrap('Best improvement of Energy and Time relative to -O3 found be CE.', 55)))\n",
    "    plt.ylabel('Relative to -O3)')\n",
    "    plt.xticks(rotation=90)\n",
    "    plt.legend()"
   ]
  },
  {
   "cell_type": "code",
   "execution_count": null,
   "metadata": {},
   "outputs": [],
   "source": [
    "double_plot_relative_to_o3(relative_data, benchmarks)"
   ]
  },
  {
   "cell_type": "code",
   "execution_count": null,
   "metadata": {},
   "outputs": [],
   "source": [
    "plot_relative_to_o3('Energy', relative_data, benchmarks)\n",
    "plot_relative_to_o3('Time', relative_data, benchmarks)"
   ]
  }
 ],
 "metadata": {
  "kernelspec": {
   "display_name": "Python 3",
   "language": "python",
   "name": "python3"
  },
  "language_info": {
   "codemirror_mode": {
    "name": "ipython",
    "version": 3
   },
   "file_extension": ".py",
   "mimetype": "text/x-python",
   "name": "python",
   "nbconvert_exporter": "python",
   "pygments_lexer": "ipython3",
   "version": "3.6.4"
  }
 },
 "nbformat": 4,
 "nbformat_minor": 2
}
