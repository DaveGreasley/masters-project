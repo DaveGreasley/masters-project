{
 "cells": [
  {
   "cell_type": "code",
   "execution_count": null,
   "metadata": {},
   "outputs": [],
   "source": [
    "import pandas as pd\n",
    "import numpy as np\n",
    "import matplotlib.pyplot as plt\n",
    "%matplotlib inline"
   ]
  },
  {
   "cell_type": "code",
   "execution_count": null,
   "metadata": {},
   "outputs": [],
   "source": [
    "data = pd.read_csv('CE.bug_fix_build_clean.csv')\n",
    "data.loc[:, 'Energy'] *= 1e-6 # Convert energy to Joules\n",
    "data.loc[:, 'Benchmark'] = data['Benchmark'].str.replace('.x', '')\n",
    "data.head()"
   ]
  },
  {
   "cell_type": "code",
   "execution_count": null,
   "metadata": {},
   "outputs": [],
   "source": [
    "average_data = data.groupby(['Benchmark','Flags', 'Type', 'RunId'], as_index=False).agg({'Energy':'mean', 'Time':'mean'})"
   ]
  },
  {
   "cell_type": "code",
   "execution_count": null,
   "metadata": {},
   "outputs": [],
   "source": [
    "average_data[average_data[\"Flags\"] == '-O3']"
   ]
  },
  {
   "cell_type": "code",
   "execution_count": null,
   "metadata": {},
   "outputs": [],
   "source": [
    "#pd.set_option(\"display.max_rows\",1001)\n",
    "#pd.set_option(\"display.max_colwidth\",10001)\n",
    "\n",
    "pd.set_option(\"display.max_rows\",60)\n",
    "pd.set_option(\"display.max_colwidth\",50)\n",
    "\n",
    "pd.get_option(\"display.max_rows\")\n",
    "pd.get_option(\"display.max_colwidth\")"
   ]
  },
  {
   "cell_type": "code",
   "execution_count": null,
   "metadata": {},
   "outputs": [],
   "source": [
    "average_data.loc[(average_data[\"Benchmark\"] == 'botsalgn') & ((average_data[\"Type\"] == 'baseline') | (average_data[\"Type\"] == 'initial'))].sort_values('RunId').tail()"
   ]
  },
  {
   "cell_type": "code",
   "execution_count": null,
   "metadata": {},
   "outputs": [],
   "source": [
    "benchmarks = data[\"Benchmark\"].unique()\n",
    "print(benchmarks)"
   ]
  },
  {
   "cell_type": "markdown",
   "metadata": {},
   "source": [
    "### Find best configuration for Energy"
   ]
  },
  {
   "cell_type": "code",
   "execution_count": null,
   "metadata": {},
   "outputs": [],
   "source": [
    "def best_configuration(variable, benchmark, average_data):\n",
    "    benchmark_data = average_data.loc[average_data[\"Benchmark\"] == benchmark]\n",
    "    min_index = benchmark_data[variable].idxmin()\n",
    "    return benchmark_data.loc[min_index][\"Flags\"]\n",
    "    "
   ]
  },
  {
   "cell_type": "code",
   "execution_count": null,
   "metadata": {},
   "outputs": [],
   "source": [
    "for benchmark in benchmarks:\n",
    "    print(benchmark)\n",
    "    print(best_configuration('Energy', benchmark, average_data))\n",
    "    print('-----')"
   ]
  },
  {
   "cell_type": "markdown",
   "metadata": {},
   "source": [
    "### Compare Energy vs Time"
   ]
  },
  {
   "cell_type": "code",
   "execution_count": null,
   "metadata": {},
   "outputs": [],
   "source": [
    "def plot_energy_vs_time(benchmark, data):\n",
    "    benchmark_data = data.loc[data[\"Benchmark\"] == benchmark]\n",
    "    o3_data = benchmark_data.loc[benchmark_data[\"Flags\"] == \"-O3\"]\n",
    "    non_o3_data = benchmark_data.loc[benchmark_data[\"Flags\"] != \"-O3\"]\n",
    "    \n",
    "    X = non_o3_data[\"Time\"].values\n",
    "    Y = non_o3_data[\"Energy\"].values\n",
    "    \n",
    "    plt.figure()\n",
    "    plt.scatter(X, Y, label='CE Configurations')\n",
    "    plt.scatter(o3_data[\"Time\"].values, o3_data[\"Energy\"].values, c='r', label='-O3')\n",
    "    plt.title('Energy vs Time results for Combined Elimination on ' + benchmark)\n",
    "    plt.legend()\n",
    "    plt.xlabel('Time (s)')\n",
    "    plt.ylabel('Energy (J)')"
   ]
  },
  {
   "cell_type": "code",
   "execution_count": null,
   "metadata": {},
   "outputs": [],
   "source": [
    "for benchmark in benchmarks:\n",
    "    plot_energy_vs_time(benchmark, average_data)"
   ]
  },
  {
   "cell_type": "markdown",
   "metadata": {},
   "source": [
    "### Compare Energy vs Runs"
   ]
  },
  {
   "cell_type": "code",
   "execution_count": null,
   "metadata": {},
   "outputs": [],
   "source": [
    "def plot_energy_vs_runs(benchmark, data):\n",
    "    benchmark_data = data.loc[(data[\"Benchmark\"] == benchmark) & ((data[\"Type\"] == 'baseline') | (data[\"Type\"] == 'initial'))].sort_values('RunId')\n",
    "    \n",
    "    X = benchmark_data[\"RunId\"].values\n",
    "    Y = benchmark_data[\"Energy\"].values\n",
    "    \n",
    "    plt.figure()\n",
    "    plt.plot(X, Y)\n",
    "    plt.title('Energy vs run id for Combined Elimination on ' + benchmark)\n",
    "    plt.xlabel('Run Id')\n",
    "    plt.ylabel('Energy (J)')"
   ]
  },
  {
   "cell_type": "code",
   "execution_count": null,
   "metadata": {},
   "outputs": [],
   "source": [
    "for benchmark in benchmarks:\n",
    "    plot_energy_vs_runs(benchmark, average_data)"
   ]
  },
  {
   "cell_type": "markdown",
   "metadata": {},
   "source": [
    "### Compare best improvement of Energy and time to O3 baseline"
   ]
  },
  {
   "cell_type": "code",
   "execution_count": null,
   "metadata": {},
   "outputs": [],
   "source": [
    "def o3_relative_data(average_data, benchmarks):\n",
    "    o3_data = average_data.loc[average_data[\"Flags\"] == \"-O3\"]\n",
    "    \n",
    "    relative_data = average_data.copy(deep=True)\n",
    "    \n",
    "    for benchmark in benchmarks:\n",
    "        o3 = o3_data.loc[relative_data[\"Benchmark\"] == benchmark]\n",
    "        o3_energy = o3.iloc[0][\"Energy\"]\n",
    "        o3_time = o3.iloc[0][\"Time\"]\n",
    "\n",
    "        relative_data.loc[relative_data[\"Benchmark\"] == benchmark, \"Energy\"] /= o3_energy\n",
    "        relative_data.loc[relative_data[\"Benchmark\"] == benchmark, \"Time\"] /= o3_time\n",
    "\n",
    "    return relative_data\n",
    "\n",
    "\n",
    "def plot_relative_to_o3(variable, relative_data, benchmarks):\n",
    "    X = benchmarks\n",
    "    Y = [relative_data.loc[relative_data[\"Benchmark\"] == benchmark, variable].min() for benchmark in benchmarks]\n",
    "\n",
    "    plt.figure()\n",
    "    plt.scatter(X, Y, marker='x', label='CE')\n",
    "    plt.axhline(1, label='O3')\n",
    "    \n",
    "    plt.title('Best relative improvement of ' + variable + ' relative to -O3')\n",
    "    plt.ylabel(variable + ' (relative to -O3)')\n",
    "    plt.legend()\n"
   ]
  },
  {
   "cell_type": "code",
   "execution_count": null,
   "metadata": {},
   "outputs": [],
   "source": [
    "relative_data = o3_relative_data(average_data, benchmarks)\n",
    "plot_relative_to_o3('Energy', relative_data, benchmarks)\n",
    "plot_relative_to_o3('Time', relative_data, benchmarks)"
   ]
  }
 ],
 "metadata": {
  "kernelspec": {
   "display_name": "Python 3",
   "language": "python",
   "name": "python3"
  },
  "language_info": {
   "codemirror_mode": {
    "name": "ipython",
    "version": 3
   },
   "file_extension": ".py",
   "mimetype": "text/x-python",
   "name": "python",
   "nbconvert_exporter": "python",
   "pygments_lexer": "ipython3",
   "version": "3.6.4"
  }
 },
 "nbformat": 4,
 "nbformat_minor": 2
}
