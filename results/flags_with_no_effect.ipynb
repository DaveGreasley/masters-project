{
 "cells": [
  {
   "cell_type": "code",
   "execution_count": null,
   "metadata": {},
   "outputs": [],
   "source": [
    "import numpy as np\n",
    "import pandas as pd\n",
    "import matplotlib.pyplot as plt"
   ]
  },
  {
   "cell_type": "code",
   "execution_count": null,
   "metadata": {},
   "outputs": [],
   "source": [
    "data = pd.read_csv('CE.BC.E.up-to-o3.csv')\n",
    "data.loc[:, 'Energy'] *= 1e-6 # Convert energy to Joules\n",
    "benchmarks = data[\"Benchmark\"].unique()\n",
    "average_data = data.groupby(['Benchmark','Flags'], as_index=False).agg({'Energy':'mean', 'Time':'mean'})\n",
    "average_data.head()"
   ]
  },
  {
   "cell_type": "code",
   "execution_count": null,
   "metadata": {},
   "outputs": [],
   "source": [
    "def flag_diff(index, data):\n",
    "    current = data.iloc[index][\"Flags\"].split(' ')\n",
    "    previous = data.iloc[index - 1][\"Flags\"].split(' ')\n",
    "    \n",
    "    return set(current) - set(previous)\n",
    "\n",
    "def initial_baseline(variable, data):\n",
    "    return data.loc[(~data[\"Flags\"].str.contains('no')) & (data[\"Flags\"] != '-O3')].iloc[0][variable]"
   ]
  },
  {
   "cell_type": "code",
   "execution_count": null,
   "metadata": {},
   "outputs": [],
   "source": [
    "def flags_with_no_effect(benchmark, variable, data, tolerance):\n",
    "    benchmark_data = data.loc[data[\"Benchmark\"] == benchmark]\n",
    "    benchmark_data.head()\n",
    "\n",
    "    flags = set()\n",
    "\n",
    "    baseline = initial_baseline(variable, benchmark_data)\n",
    "    for i, measurement in enumerate(benchmark_data[variable].values):\n",
    "        if abs((measurement - baseline) / baseline) <= tolerance :\n",
    "            flags = flags.union(flag_diff(i, benchmark_data))\n",
    "\n",
    "    return flags"
   ]
  },
  {
   "cell_type": "code",
   "execution_count": null,
   "metadata": {},
   "outputs": [],
   "source": [
    "flags = []\n",
    "\n",
    "for benchmark in benchmarks:\n",
    "    flags.append(flags_with_no_effect(benchmark, 'Energy', average_data, tolerance=0.0001))\n",
    "\n",
    "print(set.intersection(*flags))"
   ]
  }
 ],
 "metadata": {
  "kernelspec": {
   "display_name": "Python 3",
   "language": "python",
   "name": "python3"
  },
  "language_info": {
   "codemirror_mode": {
    "name": "ipython",
    "version": 3
   },
   "file_extension": ".py",
   "mimetype": "text/x-python",
   "name": "python",
   "nbconvert_exporter": "python",
   "pygments_lexer": "ipython3",
   "version": "3.6.4"
  }
 },
 "nbformat": 4,
 "nbformat_minor": 2
}
