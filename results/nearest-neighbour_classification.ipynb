{
 "cells": [
  {
   "cell_type": "code",
   "execution_count": null,
   "metadata": {},
   "outputs": [],
   "source": [
    "import numpy as np\n",
    "import pandas as pd\n",
    "import matplotlib as mpl\n",
    "import matplotlib.pyplot as plt\n",
    "\n",
    "from sklearn.preprocessing import StandardScaler\n",
    "from sklearn.model_selection import KFold, LeavePOut\n",
    "from sklearn.neighbors import KNeighborsClassifier\n",
    "\n",
    "import sys\n",
    "sys.path.insert(0,'../')\n",
    "import common.datautils as datautils\n",
    "import common.featuresutils as featuresutils"
   ]
  },
  {
   "cell_type": "code",
   "execution_count": null,
   "metadata": {},
   "outputs": [],
   "source": [
    "ce_data = datautils.load_ce_results('CE.results.zip')\n",
    "ce_data.head()"
   ]
  },
  {
   "cell_type": "code",
   "execution_count": null,
   "metadata": {},
   "outputs": [],
   "source": [
    "benchmarks = ce_data[\"Benchmark\"].unique()\n",
    "print(benchmarks)"
   ]
  },
  {
   "cell_type": "code",
   "execution_count": null,
   "metadata": {},
   "outputs": [],
   "source": [
    "X, y = featuresutils.load_features(benchmarks, with_dwarf=False, with_names=True)\n",
    "X = StandardScaler().fit_transform(X)"
   ]
  },
  {
   "cell_type": "code",
   "execution_count": null,
   "metadata": {},
   "outputs": [],
   "source": [
    "cross_apply_data = datautils.load_csv_results(\n",
    "    'cross_apply.results.csv',\n",
    "    ['ReferenceBenchmark','ApplyToBenchmark', 'Success'], \n",
    "    benchmark_cols=['ReferenceBenchmark', 'ApplyToBenchmark'],\n",
    "    successful_only=False\n",
    ")\n",
    "cross_apply_data.head()"
   ]
  },
  {
   "cell_type": "code",
   "execution_count": null,
   "metadata": {},
   "outputs": [],
   "source": [
    "datautils.best_configuration_data('Energy', 'botsspar', ce_data, ['Energy', 'Time'])"
   ]
  },
  {
   "cell_type": "code",
   "execution_count": null,
   "metadata": {},
   "outputs": [],
   "source": [
    "def percentage_difference(best_value, measured_value):\n",
    "    difference = np.abs(best_value - measured_value) / best_value\n",
    "    return np.round(difference * 100)\n",
    "\n",
    "def calculate_percent_of_best():\n",
    "    for benchmark in benchmarks:\n",
    "        best_config_data = datautils.best_configuration_data('Energy', benchmark, ce_data, ['Energy', 'Time'])\n",
    "\n",
    "        benchmark_ca_data = cross_apply_data[cross_apply_data[\"ApplyToBenchmark\"] == benchmark]\n",
    "        cross_apply_data.loc[benchmark_ca_data.index, 'EnergyPercentOfBest'] = percentage_difference(best_config_data[0], benchmark_ca_data[\"Energy\"])\n",
    "        cross_apply_data.loc[benchmark_ca_data.index, 'TimePercentOfBest'] = percentage_difference(best_config_data[1], benchmark_ca_data[\"Time\"])\n",
    "        \n",
    "\n",
    "calculate_percent_of_best()\n",
    "        \n",
    "cross_apply_data.head()"
   ]
  },
  {
   "cell_type": "code",
   "execution_count": null,
   "metadata": {},
   "outputs": [],
   "source": [
    "cross_apply_data[cross_apply_data['ReferenceBenchmark'] == 'botsspar']"
   ]
  },
  {
   "cell_type": "code",
   "execution_count": null,
   "metadata": {},
   "outputs": [],
   "source": [
    "def plot_percentage_difference(data):\n",
    "    plt.figure(figsize=(14,14))\n",
    "    \n",
    "    points = np.arange(0, len(benchmarks))\n",
    "    \n",
    "    for i, reference_benchmark in enumerate(benchmarks):\n",
    "        for j, apply_to_benchmark in enumerate(benchmarks):\n",
    "            percentage_difference = data[(data[\"ReferenceBenchmark\"] == reference_benchmark)\n",
    "                                         & (data[\"ApplyToBenchmark\"] == apply_to_benchmark)][\"EnergyPercentOfBest\"].iloc[0]\n",
    "            \n",
    "            if i == j:\n",
    "                percentage_difference = 0\n",
    "            \n",
    "            if percentage_difference > 100:\n",
    "                percentage_difference = 100\n",
    "            \n",
    "            plt.scatter(i, j, marker='s', c='k', s=percentage_difference)\n",
    "#     plt.scatter(points, points)\n",
    "\n",
    "    plt.title(\"Percentage difference \")\n",
    "    plt.xticks(points, benchmarks, rotation='vertical')\n",
    "    plt.yticks(points, benchmarks)\n",
    "    \n",
    "plot_percentage_difference(cross_apply_data)"
   ]
  },
  {
   "cell_type": "markdown",
   "metadata": {},
   "source": [
    "### Leave P out Cross Validation"
   ]
  },
  {
   "cell_type": "code",
   "execution_count": null,
   "metadata": {},
   "outputs": [],
   "source": [
    "def add_value(dict, key, value):\n",
    "    if not key in dict.keys():\n",
    "        dict[key] = []\n",
    "        \n",
    "    dict[key].append(value)\n",
    "    \n",
    "\n",
    "def leave_p_out(p, data):\n",
    "    lpo = LeavePOut(p)\n",
    "    \n",
    "    benchmarks_energy = {}\n",
    "    benchmarks_time = {}\n",
    "    \n",
    "    for train_index, test_index in lpo.split(X):\n",
    "        X_train, X_test = X[train_index], X[test_index]\n",
    "        y_train, y_test = y[train_index], y[test_index]\n",
    "\n",
    "        nn = KNeighborsClassifier(n_neighbors=1)\n",
    "        nn.fit(X_train, y_train)\n",
    "        predictions = nn.predict(X_test)\n",
    "        \n",
    "        for i in range(len(y_test)):\n",
    "            apply_to_benchmark = y_test[i]\n",
    "            predicted_benchmark = predictions[i]\n",
    "            \n",
    "            energy = data[(data[\"ReferenceBenchmark\"] == predicted_benchmark) \n",
    "                          & (data[\"ApplyToBenchmark\"] == apply_to_benchmark)][\"Energy\"].iloc[0]\n",
    "            \n",
    "            time = data[(data[\"ReferenceBenchmark\"] == predicted_benchmark) \n",
    "                          & (data[\"ApplyToBenchmark\"] == apply_to_benchmark)][\"Time\"].iloc[0]\n",
    "        \n",
    "            \n",
    "            add_value(benchmarks_energy, apply_to_benchmark, energy)\n",
    "            add_value(benchmarks_time, apply_to_benchmark, time)\n",
    "\n",
    "    averages = []        \n",
    "    \n",
    "    for benchmark in benchmarks:\n",
    "        mean = np.mean(benchmarks_energy[benchmark])\n",
    "        averages.append(mean)\n",
    "    \n",
    "    return np.array(averages).reshape(-1, 1)\n",
    "            \n",
    "def compare_p(data):\n",
    "    test_p = [1,2,3]#,4]\n",
    "    test_p_str = ['LeaveOneOut', 'LeaveTwoOut', 'LeaveThreeOut'] #'LeaveFourOut']\n",
    "    \n",
    "    averages = []       \n",
    "    for i in test_p:\n",
    "        p_averages = leave_p_out(i, data)\n",
    "        \n",
    "        averages.append(p_averages)\n",
    "    \n",
    "    averages = np.concatenate(averages, axis=1)\n",
    "    \n",
    "    return pd.DataFrame(averages, index=benchmarks, columns=test_p_str)\n",
    "\n",
    "\n",
    "def cross_o3_relative_data(leave_out_data, average_data, benchmarks):\n",
    "    o3_data = average_data.loc[average_data[\"Flags\"] == \"-O3\"]\n",
    "    \n",
    "    relative_data = leave_out_data.copy(deep=True)\n",
    "    \n",
    "    for benchmark in benchmarks:\n",
    "        o3 = o3_data.loc[average_data[\"Benchmark\"] == benchmark]\n",
    "        o3_energy = o3.iloc[0][\"Energy\"]\n",
    "        o3_time = o3.iloc[0][\"Time\"]\n",
    "\n",
    "        relative_data.loc[benchmark, \"LeaveOneOut\"] /= o3_energy\n",
    "        relative_data.loc[benchmark, \"LeaveTwoOut\"] /= o3_energy\n",
    "        relative_data.loc[benchmark, \"LeaveThreeOut\"] /= o3_energy\n",
    "\n",
    "    return relative_data\n",
    "\n",
    "\n",
    "def ce_o3_relative_data(average_data, benchmarks):\n",
    "    o3_data = average_data.loc[average_data[\"Flags\"] == \"-O3\"]\n",
    "    \n",
    "    relative_data = average_data.copy(deep=True)\n",
    "    \n",
    "    for benchmark in benchmarks:\n",
    "        o3 = o3_data.loc[relative_data[\"Benchmark\"] == benchmark]\n",
    "        o3_energy = o3.iloc[0][\"Energy\"]\n",
    "        o3_time = o3.iloc[0][\"Time\"]\n",
    "\n",
    "        relative_data.loc[relative_data[\"Benchmark\"] == benchmark, \"Energy\"] /= o3_energy\n",
    "        relative_data.loc[relative_data[\"Benchmark\"] == benchmark, \"Time\"] /= o3_time\n",
    "\n",
    "    return relative_data"
   ]
  },
  {
   "cell_type": "code",
   "execution_count": null,
   "metadata": {},
   "outputs": [],
   "source": [
    "ce_relative_data = ce_o3_relative_data(ce_data, benchmarks)\n",
    "ce_relative_data.head()"
   ]
  },
  {
   "cell_type": "code",
   "execution_count": null,
   "metadata": {},
   "outputs": [],
   "source": [
    "cross_relative_data = cross_o3_relative_data(compare_p(cross_apply_data), ce_data, benchmarks)\n",
    "cross_relative_data.head()"
   ]
  },
  {
   "cell_type": "code",
   "execution_count": null,
   "metadata": {},
   "outputs": [],
   "source": [
    "def double_plot_relative_to_o3(cross_relative_data, ce_relative_data):\n",
    "    X = list(benchmarks)\n",
    "    \n",
    "    X.remove('lbm') # Something wrong here\n",
    "    \n",
    "    best_known = [ce_relative_data.loc[ce_relative_data[\"Benchmark\"] == benchmark, 'Energy'].min() for benchmark in X]\n",
    "    loo_energy = [cross_relative_data.loc[benchmark, 'LeaveOneOut'] for benchmark in X]\n",
    "    lto_energy = [cross_relative_data.loc[benchmark, 'LeaveTwoOut'] for benchmark in X]\n",
    "    ltho_energy = [cross_relative_data.loc[benchmark, 'LeaveThreeOut'] for benchmark in X]\n",
    "    \n",
    "#     time = [relative_data.loc[relative_data[\"Benchmark\"] == benchmark, 'Time'].min() for benchmark in benchmarks]\n",
    "    \n",
    "\n",
    "    plt.figure(figsize=(12, 6))\n",
    "    plt.scatter(X, best_known, marker='<', label='Best Known')\n",
    "#     plt.scatter(X, loo_energy, marker='o', label='1NN (Leave One Out)')\n",
    "#     plt.scatter(X, lto_energy, marker='x', label='1NN (Leave Two Out)')\n",
    "    plt.scatter(X, ltho_energy, marker='v', label='1NN (Leave Three Out)')\n",
    "#     plt.scatter(X, time, marker='x', label='Time')\n",
    "    \n",
    "    plt.axhline(1, label='O3')\n",
    "    \n",
    "    plt.title('Blah.')\n",
    "    plt.ylabel('Relative to -O3)')\n",
    "    plt.xticks(rotation=90)\n",
    "    plt.legend()\n",
    "    plt.grid()\n",
    "    \n",
    "    \n",
    "double_plot_relative_to_o3(cross_relative_data, ce_relative_data)"
   ]
  }
 ],
 "metadata": {
  "kernelspec": {
   "display_name": "Python 3",
   "language": "python",
   "name": "python3"
  },
  "language_info": {
   "codemirror_mode": {
    "name": "ipython",
    "version": 3
   },
   "file_extension": ".py",
   "mimetype": "text/x-python",
   "name": "python",
   "nbconvert_exporter": "python",
   "pygments_lexer": "ipython3",
   "version": "3.6.4"
  }
 },
 "nbformat": 4,
 "nbformat_minor": 2
}
