{
 "cells": [
  {
   "cell_type": "code",
   "execution_count": null,
   "metadata": {},
   "outputs": [],
   "source": [
    "import numpy as np\n",
    "import pandas as pd\n",
    "import matplotlib.pyplot as plt\n",
    "from textwrap import wrap\n",
    "\n",
    "from sklearn.preprocessing import StandardScaler\n",
    "from sklearn.decomposition import PCA\n",
    "\n",
    "import sys\n",
    "sys.path.insert(0,'../')\n",
    "\n",
    "import common.datautils as datautils\n",
    "import common.featuresutils as featuresutils"
   ]
  },
  {
   "cell_type": "code",
   "execution_count": null,
   "metadata": {},
   "outputs": [],
   "source": [
    "average_data = datautils.load_ce_results('CE.results.zip')\n",
    "stable_benchmarks = ['BT', 'CG', 'EP', 'FT', 'IS', 'MG', 'UA', 'botsalgn', 'botsspar', 'bwaves', 'fma3d', 'kdtree', 'nab', 'imagick', 'smithwa', 'swim', 'lbm', 'hotspot', 'backprop', 'kmeans']\n",
    "suites = 7 * ['NPB'] + 9 * ['SPEC'] + ['Parboil'] + 3 * ['Rodinia']"
   ]
  },
  {
   "cell_type": "code",
   "execution_count": null,
   "metadata": {},
   "outputs": [],
   "source": [
    "def run_pca(benchmarks, with_dwarf=False, random_dwarfs=False, visualise=True):\n",
    "    data = featuresutils.load_features(benchmarks, with_dwarf=with_dwarf)\n",
    "    \n",
    "    # Run PCA\n",
    "    X = StandardScaler().fit_transform(data)\n",
    "    pca = PCA(n_components=2)\n",
    "    principal_components = pca.fit_transform(X)\n",
    "    print(len(principal_components))\n",
    "    component_labels = ['PC1', 'PC2']\n",
    "    principal_frame = pd.DataFrame(data=principal_components, columns=component_labels, index=benchmarks)\n",
    "    principal_frame.loc[:, 'Suite'] = suites\n",
    "    \n",
    "    if visualise:\n",
    "        # Generate SCREE Plot\n",
    "        fig = plt.figure(figsize=(16,6))\n",
    "        ax = fig.add_subplot(1, 2, 1)\n",
    "        ax.bar(component_labels, pca.explained_variance_ratio_)\n",
    "        ax.set_title('Explained Variance of Principal Components')\n",
    "        ax.set_xlabel('Principal Component')\n",
    "        ax.set_ylabel('Explained Variance Ratio')\n",
    "\n",
    "\n",
    "        ax = fig.add_subplot(1, 2, 2)\n",
    "        ax.set_xlabel('PC1')\n",
    "        ax.set_ylabel('PC2')\n",
    "        ax.set_title('2 Component PCA plot of stable benchmarks using Milepost features')\n",
    "        ax.grid()\n",
    "\n",
    "        ax.scatter(principal_frame['PC1'], \n",
    "                   principal_frame['PC2'])\n",
    "    \n",
    "    return principal_frame\n",
    "\n",
    "\n",
    "def visualise_all():\n",
    "    principal_frame = run_pca(stable_benchmarks, visualise=False)\n",
    "    \n",
    "    npb_pca = principal_frame[principal_frame['Suite'] == 'NPB']\n",
    "    spec_pca = principal_frame[principal_frame['Suite'] == 'SPEC']\n",
    "    parboil_pca = principal_frame[principal_frame['Suite'] == 'Parboil']\n",
    "    rodinia_pca = principal_frame[principal_frame['Suite'] == 'Rodinia']\n",
    "    \n",
    "    plt.figure(figsize=(8, 6))\n",
    "    plt.scatter(npb_pca['PC1'], \n",
    "                npb_pca['PC2'],\n",
    "                marker='o',\n",
    "                label='NPB')\n",
    "\n",
    "    plt.scatter(spec_pca['PC1'], \n",
    "                spec_pca['PC2'],\n",
    "                marker='x',\n",
    "                label='SPEC')\n",
    "    \n",
    "    plt.scatter(parboil_pca['PC1'].iloc[0], \n",
    "                parboil_pca['PC2'].iloc[0],\n",
    "                marker='v',\n",
    "                label='Parboil')\n",
    "    \n",
    "    plt.scatter(rodinia_pca['PC1'], \n",
    "                rodinia_pca['PC2'],\n",
    "                marker='d',\n",
    "                label='Rodinia')\n",
    "\n",
    "    plt.grid()\n",
    "    plt.legend()\n",
    "    plt.xlabel('Principal Component 1')\n",
    "    plt.ylabel('Principal Component 2')\n",
    "    plt.title('\\n'.join(wrap('Comparison of all stable benchmarks by suite using PCA', 55)))\n",
    "    plt.show()\n",
    "    \n",
    "\n",
    "def compare_with_dwarf_feature():\n",
    "    no_dwarf = run_pca(stable_benchmarks, with_dwarf=False, visualise=False)   \n",
    "    dwarf = run_pca(stable_benchmarks, with_dwarf=True, visualise=False)\n",
    "    \n",
    "    \n",
    "    \n",
    "    plt.figure(figsize=(8, 6))\n",
    "    plt.scatter(no_dwarf['PC1'], \n",
    "                no_dwarf['PC2'],\n",
    "                marker='o',\n",
    "                label='No Dwarf')\n",
    "\n",
    "    plt.scatter(dwarf['PC1'], \n",
    "                dwarf['PC2'],\n",
    "                marker='x',\n",
    "                label='With Dwarf')\n",
    "\n",
    "    plt.grid()\n",
    "    plt.legend()\n",
    "    plt.xlabel('Principal Component 1')\n",
    "    plt.ylabel('Principal Component 2')\n",
    "    plt.title('\\n'.join(wrap('Comparison of dwarf feature on separation of stable benchmarks using PCA', 55)))\n",
    "    plt.show()\n"
   ]
  },
  {
   "cell_type": "markdown",
   "metadata": {},
   "source": [
    "### Compare Benchmark Suites"
   ]
  },
  {
   "cell_type": "code",
   "execution_count": null,
   "metadata": {},
   "outputs": [],
   "source": [
    "visualise_all()"
   ]
  },
  {
   "cell_type": "code",
   "execution_count": null,
   "metadata": {},
   "outputs": [],
   "source": [
    "compare_with_dwarf_feature()"
   ]
  }
 ],
 "metadata": {
  "kernelspec": {
   "display_name": "Python 3",
   "language": "python",
   "name": "python3"
  },
  "language_info": {
   "codemirror_mode": {
    "name": "ipython",
    "version": 3
   },
   "file_extension": ".py",
   "mimetype": "text/x-python",
   "name": "python",
   "nbconvert_exporter": "python",
   "pygments_lexer": "ipython3",
   "version": "3.6.4"
  }
 },
 "nbformat": 4,
 "nbformat_minor": 2
}
