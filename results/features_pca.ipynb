{
 "cells": [
  {
   "cell_type": "code",
   "execution_count": null,
   "metadata": {},
   "outputs": [],
   "source": [
    "import numpy as np\n",
    "import pandas as pd\n",
    "import matplotlib.pyplot as plt\n",
    "from textwrap import wrap\n",
    "\n",
    "from sklearn.preprocessing import StandardScaler\n",
    "from sklearn.decomposition import PCA\n",
    "\n",
    "import sys\n",
    "sys.path.insert(0,'../')\n",
    "\n",
    "from common.featuresutils import load_features"
   ]
  },
  {
   "cell_type": "code",
   "execution_count": null,
   "metadata": {},
   "outputs": [],
   "source": [
    "stable_benchmarks = ['botsalgn', 'botsspar', 'smithwa', 'imagick', 'kdtree', 'UA', 'nab', 'BT', 'MG', 'IS', 'FT', 'EP', 'CG', 'swim', 'fma3d', 'bwaves']"
   ]
  },
  {
   "cell_type": "code",
   "execution_count": null,
   "metadata": {},
   "outputs": [],
   "source": [
    "def visualise_pca_subset(benchmarks, with_dwarf=False):\n",
    "    data = load_features(benchmarks, with_dwarf=with_dwarf)\n",
    "    \n",
    "    # Run PCA\n",
    "    X = StandardScaler().fit_transform(data)\n",
    "    pca = PCA(n_components=5)\n",
    "    principal_components = pca.fit_transform(X)\n",
    "    component_labels = ['PC1', 'PC2', 'PC3', 'PC4', 'PC5']\n",
    "    principal_frame = pd.DataFrame(data=principal_components, columns=component_labels)\n",
    "\n",
    "    # Generate SCREE Plot\n",
    "    fig = plt.figure(figsize=(16,6))\n",
    "    ax = fig.add_subplot(1, 2, 1)\n",
    "    ax.bar(component_labels, pca.explained_variance_ratio_)\n",
    "    ax.set_title('Explained Variance of Principal Components')\n",
    "    ax.set_xlabel('Principal Component')\n",
    "    ax.set_ylabel('Explained Variance Ratio')\n",
    "    \n",
    "    \n",
    "    ax = fig.add_subplot(1, 2, 2)\n",
    "    ax.set_xlabel('PC1')\n",
    "    ax.set_ylabel('PC2')\n",
    "    ax.set_title('2 Component PCA for NPB and SPEC using Milepost features')\n",
    "    \n",
    "    ax.scatter(principal_frame['PC1'], \n",
    "               principal_frame['PC2'])"
   ]
  },
  {
   "cell_type": "code",
   "execution_count": null,
   "metadata": {},
   "outputs": [],
   "source": [
    "visualise_pca_subset(stable_benchmarks)"
   ]
  },
  {
   "cell_type": "code",
   "execution_count": null,
   "metadata": {},
   "outputs": [],
   "source": [
    "visualise_pca_subset(stable_benchmarks, with_dwarf=True)"
   ]
  }
 ],
 "metadata": {
  "kernelspec": {
   "display_name": "Python 3",
   "language": "python",
   "name": "python3"
  },
  "language_info": {
   "codemirror_mode": {
    "name": "ipython",
    "version": 3
   },
   "file_extension": ".py",
   "mimetype": "text/x-python",
   "name": "python",
   "nbconvert_exporter": "python",
   "pygments_lexer": "ipython3",
   "version": "3.6.4"
  }
 },
 "nbformat": 4,
 "nbformat_minor": 2
}
