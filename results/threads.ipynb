{
 "cells": [
  {
   "cell_type": "code",
   "execution_count": null,
   "metadata": {},
   "outputs": [],
   "source": [
    "import pandas as pd\n",
    "import numpy as np\n",
    "import matplotlib.pyplot as plt\n",
    "from textwrap import wrap\n",
    "%matplotlib inline"
   ]
  },
  {
   "cell_type": "code",
   "execution_count": null,
   "metadata": {},
   "outputs": [],
   "source": [
    "data = pd.read_csv('THREADS.results.csv')\n",
    "data.loc[:, 'Energy'] *= 1e-6 # Convert energy to Joules\n",
    "data.loc[:, 'Benchmark'] = data['Benchmark'].str.replace('.x', '')\n",
    "\n",
    "average_data = data.groupby(['Benchmark','NumThreads', 'Success', 'RunId'], as_index=False).agg({'Energy':'mean', 'Time':'mean'})\n",
    "average_data.head()"
   ]
  },
  {
   "cell_type": "code",
   "execution_count": null,
   "metadata": {},
   "outputs": [],
   "source": [
    "benchmarks = data[\"Benchmark\"].unique()\n",
    "print(benchmarks)"
   ]
  },
  {
   "cell_type": "code",
   "execution_count": null,
   "metadata": {},
   "outputs": [],
   "source": [
    "def one_thread_relative_data(average_data, benchmark):\n",
    "    one_thread_data = average_data.loc[average_data[\"NumThreads\"] == 1]\n",
    "    \n",
    "    relative_data = average_data.copy(deep=True)\n",
    "    \n",
    "    for benchmark in benchmarks:\n",
    "        benchmark_one_thread_data = one_thread_data.loc[relative_data[\"Benchmark\"] == benchmark]\n",
    "        energy = benchmark_one_thread_data.iloc[0][\"Energy\"]\n",
    "        time = benchmark_one_thread_data.iloc[0][\"Time\"]\n",
    "\n",
    "        relative_data.loc[relative_data[\"Benchmark\"] == benchmark, \"Energy\"] /= energy\n",
    "        relative_data.loc[relative_data[\"Benchmark\"] == benchmark, \"Time\"] /= time\n",
    "\n",
    "    return relative_data\n",
    "\n",
    "def double_plot_relative_to_one_thread(relative_data, benchmark):\n",
    "    benchmark_data = relative_data[relative_data[\"Benchmark\"] == benchmark]\n",
    "    \n",
    "    X = benchmark_data[\"NumThreads\"].values\n",
    "    \n",
    "    energy = benchmark_data[\"Energy\"].values\n",
    "    time = benchmark_data[\"Time\"].values\n",
    "    \n",
    "\n",
    "    plt.figure()\n",
    "    plt.scatter(X, energy, marker='o', label='Energy')\n",
    "    plt.scatter(X, time, marker='x', label='Time')\n",
    "    \n",
    "    plt.axhline(1, label='1 Thread')\n",
    "    \n",
    "    plt.title('\\n'.join(wrap(f'Best improvement of Energy and Time relative to 1 Thread for {benchmark}.', 55)))\n",
    "    plt.ylabel('Relative to -1 Thread')\n",
    "    plt.xlabel('Number of threads\"')\n",
    "    plt.legend()"
   ]
  },
  {
   "cell_type": "code",
   "execution_count": null,
   "metadata": {},
   "outputs": [],
   "source": [
    "relative_data = one_thread_relative_data(average_data, benchmarks)\n",
    "\n",
    "for benchmark in benchmarks:\n",
    "    double_plot_relative_to_one_thread(relative_data, benchmark)"
   ]
  },
  {
   "cell_type": "code",
   "execution_count": null,
   "metadata": {},
   "outputs": [],
   "source": [
    "def plot_energy_vs_time(benchmark, data):\n",
    "    benchmark_data = data.loc[data[\"Benchmark\"] == benchmark]\n",
    "\n",
    "    plt.figure(figsize=(12, 10))\n",
    "    \n",
    "    for num_threads in benchmark_data[\"NumThreads\"].unique():\n",
    "        thread_data = benchmark_data[benchmark_data[\"NumThreads\"] == num_threads]\n",
    "        \n",
    "        X = thread_data[\"Time\"].values\n",
    "        Y = thread_data[\"Energy\"].values\n",
    "\n",
    "        plt.scatter(X, Y, label=f\"{num_threads} threads\")\n",
    "\n",
    "    plt.title('Energy vs Time results for different thread counts on ' + benchmark)\n",
    "    plt.legend()\n",
    "    plt.xlabel('Time (s)')\n",
    "    plt.ylabel('Energy (J)')"
   ]
  },
  {
   "cell_type": "code",
   "execution_count": null,
   "metadata": {},
   "outputs": [],
   "source": [
    "for benchmark in benchmarks:\n",
    "    plot_energy_vs_time(benchmark, data)"
   ]
  }
 ],
 "metadata": {
  "kernelspec": {
   "display_name": "Python 3",
   "language": "python",
   "name": "python3"
  },
  "language_info": {
   "codemirror_mode": {
    "name": "ipython",
    "version": 3
   },
   "file_extension": ".py",
   "mimetype": "text/x-python",
   "name": "python",
   "nbconvert_exporter": "python",
   "pygments_lexer": "ipython3",
   "version": "3.6.4"
  }
 },
 "nbformat": 4,
 "nbformat_minor": 2
}
