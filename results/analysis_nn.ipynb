{
 "cells": [
  {
   "cell_type": "code",
   "execution_count": null,
   "metadata": {},
   "outputs": [],
   "source": [
    "import pandas as pd\n",
    "import numpy as np\n",
    "import matplotlib.pyplot as plt\n",
    "\n",
    "import sys\n",
    "sys.path.insert(0,'../')\n",
    "import common.flagutils as flagutils\n",
    "import common.datautils as datautils\n",
    "import common.featuresutils as featuresutils"
   ]
  },
  {
   "cell_type": "code",
   "execution_count": null,
   "metadata": {},
   "outputs": [],
   "source": [
    "ce_data = datautils.load_ce_results('CE.results.zip')\n",
    "ce_data.head()"
   ]
  },
  {
   "cell_type": "code",
   "execution_count": null,
   "metadata": {},
   "outputs": [],
   "source": [
    "nn_data = datautils.load_csv_results('NN.LOO.csv', ['Benchmark','Flags', 'Success'])\n",
    "nn_data.head()"
   ]
  },
  {
   "cell_type": "code",
   "execution_count": null,
   "metadata": {},
   "outputs": [],
   "source": [
    "benchmarks = nn_data[\"Benchmark\"].unique()"
   ]
  },
  {
   "cell_type": "code",
   "execution_count": null,
   "metadata": {},
   "outputs": [],
   "source": [
    "def get_relative_data():\n",
    "    relative_data = nn_data.copy(deep=True)\n",
    "    \n",
    "    for benchmark in benchmarks:\n",
    "        best_config_data = datautils.best_configuration_data('Energy', benchmark, ce_data, [\"Energy\", \"Time\"])\n",
    "        best_energy = best_config_data[0]\n",
    "        best_time = best_config_data[1]\n",
    "        \n",
    "        relative_data.loc[relative_data[\"Benchmark\"] == benchmark, \"Energy\"] /= best_energy\n",
    "        relative_data.loc[relative_data[\"Benchmark\"] == benchmark, \"Time\"] /= best_time\n",
    "        \n",
    "        \n",
    "        \n",
    "    return relative_data\n",
    "\n",
    "def double_plot_relative_to_o3(relative_data, benchmarks):\n",
    "    X = benchmarks\n",
    "    energy = [relative_data.loc[relative_data[\"Benchmark\"] == benchmark, 'Energy'].min() for benchmark in benchmarks]\n",
    "    time = [relative_data.loc[relative_data[\"Benchmark\"] == benchmark, 'Time'].min() for benchmark in benchmarks]\n",
    "    \n",
    "\n",
    "    plt.figure(figsize=(12, 6))\n",
    "    plt.scatter(X, energy, marker='o', label='Energy')\n",
    "    plt.scatter(X, time, marker='x', label='Time')\n",
    "    \n",
    "    plt.axhline(1, label='Best Known')\n",
    "    \n",
    "#     plt.title('Best improvement of Energy and Time relative to -O3 found be CE.')\n",
    "    plt.ylabel('Relative to Best Known Config)')\n",
    "    plt.xticks(rotation=90)\n",
    "    plt.legend()\n",
    "    plt.grid()"
   ]
  },
  {
   "cell_type": "code",
   "execution_count": null,
   "metadata": {},
   "outputs": [],
   "source": [
    "relative_data = get_relative_data()"
   ]
  },
  {
   "cell_type": "code",
   "execution_count": null,
   "metadata": {},
   "outputs": [],
   "source": [
    "double_plot_relative_to_o3(relative_data, benchmarks)"
   ]
  }
 ],
 "metadata": {
  "kernelspec": {
   "display_name": "Python 3",
   "language": "python",
   "name": "python3"
  },
  "language_info": {
   "codemirror_mode": {
    "name": "ipython",
    "version": 3
   },
   "file_extension": ".py",
   "mimetype": "text/x-python",
   "name": "python",
   "nbconvert_exporter": "python",
   "pygments_lexer": "ipython3",
   "version": "3.6.4"
  }
 },
 "nbformat": 4,
 "nbformat_minor": 2
}
