{
 "cells": [
  {
   "cell_type": "code",
   "execution_count": null,
   "metadata": {},
   "outputs": [],
   "source": [
    "import pandas as pd\n",
    "import numpy as np\n",
    "import matplotlib.pyplot as plt\n",
    "%matplotlib inline"
   ]
  },
  {
   "cell_type": "code",
   "execution_count": null,
   "metadata": {},
   "outputs": [],
   "source": [
    "data = pd.read_csv(\"fix_flags.bc.20180728-102532.csv\") #NPB\n",
    "\n",
    "\n",
    "data.rename(columns=lambda x:x.strip(), inplace=True) # Remove whitespace from column headers\n",
    "data.loc[:, 'Energy'] *= 1e-6 # Convert energy to Joules\n",
    "data.head()"
   ]
  },
  {
   "cell_type": "code",
   "execution_count": null,
   "metadata": {},
   "outputs": [],
   "source": [
    "# Find all runs that failed\n",
    "failed = data[data['Success'] == False]\n",
    "failed"
   ]
  },
  {
   "cell_type": "code",
   "execution_count": null,
   "metadata": {},
   "outputs": [],
   "source": [
    "no_o0 = data[data[\"Flags\"] != \"-O0\"]"
   ]
  },
  {
   "cell_type": "code",
   "execution_count": null,
   "metadata": {},
   "outputs": [],
   "source": [
    "def plot_benchmark_results(benchmark, frame):\n",
    "    data = frame[frame[\"Benchmark\"] == benchmark]\n",
    "    \n",
    "    flags = ['O1', 'O2', 'O3']\n",
    "    markers = ['x', 'o', 'v']\n",
    "    \n",
    "    fig, ax = plt.subplots()\n",
    "    for i in range(len(flags)):\n",
    "        flag = flags[i]\n",
    "        marker = markers[i]\n",
    "        \n",
    "        flag_data = data[data[\"Flags\"] == \"-\" + flag]\n",
    "        \n",
    "        x = flag_data[\"Time\"].values\n",
    "        y = flag_data[\"Energy\"].values\n",
    "        \n",
    "        ax.scatter(x, y, marker=marker, label=flag)\n",
    "\n",
    "    plt.legend()        \n",
    "    plt.xlabel('Time (s)')\n",
    "    plt.ylabel('Energy (J)')\n",
    "    plt.title('Energy vs Time for ' + benchmark + ' benchmark')\n",
    "\n",
    "def summary(data, variable):\n",
    "    mean = np.mean(data[variable].values)\n",
    "    median = np.median(data[variable].values)\n",
    "    min = np.min(data[variable].values)\n",
    "    max = np.max(data[variable].values)\n",
    "    range = max - min\n",
    "    relative_range = range / mean * 100\n",
    "    std = np.std(data[variable].values)\n",
    "    coeff_var = std / mean * 100\n",
    "    \n",
    "    return [mean, median, min, max, range, relative_range, std, coeff_var]\n",
    "\n",
    "def summary_frame(array):\n",
    "    return pd.DataFrame(array[:,1:], \n",
    "                       index=array[:,0],\n",
    "                       dtype=float,\n",
    "                       columns=['Mean', 'Median', 'Min', 'Max', 'Range', 'Relative Range', 'Std', 'CV'])"
   ]
  },
  {
   "cell_type": "code",
   "execution_count": null,
   "metadata": {},
   "outputs": [],
   "source": [
    "benchmarks = data[\"Benchmark\"].unique()\n",
    "\n",
    "summary_stats_energy = []\n",
    "summary_stats_time = []\n",
    "\n",
    "for benchmark in benchmarks:\n",
    "    benchmark_o3_data = data[(data[\"Benchmark\"] == benchmark) & (data[\"Flags\"] == \"-O3\") & (data[\"Success\"] == True)]\n",
    "    if len(benchmark_o3_data) == 0:\n",
    "        continue\n",
    "    \n",
    "    summary_stats_energy.append([benchmark] + summary(benchmark_o3_data, \"Energy\"))\n",
    "    summary_stats_time.append([benchmark] + summary(benchmark_o3_data, \"Time\"))"
   ]
  },
  {
   "cell_type": "code",
   "execution_count": null,
   "metadata": {},
   "outputs": [],
   "source": [
    "summary_frame_energy = summary_frame(np.array(summary_stats_energy))\n",
    "summary_frame_energy"
   ]
  },
  {
   "cell_type": "code",
   "execution_count": null,
   "metadata": {},
   "outputs": [],
   "source": [
    "summary_frame_time = summary_frame(np.array(summary_stats_time))\n",
    "summary_frame_time"
   ]
  },
  {
   "cell_type": "code",
   "execution_count": null,
   "metadata": {},
   "outputs": [],
   "source": [
    "# energy_low_cv = set(summary_frame_energy[summary_frame_energy[\"CV\"] < 1.0].index)\n",
    "# time_low_cv = set(summary_frame_time[summary_frame_time[\"CV\"] < 1.0].index)\n",
    "# print(energy_low_cv.intersection(time_low_cv))\n",
    "\n",
    "stable_benchmarks_time = summary_frame_time[summary_frame_time[\"CV\"] < 0.1].index\n",
    "stable_benchmarks_time"
   ]
  },
  {
   "cell_type": "code",
   "execution_count": null,
   "metadata": {},
   "outputs": [],
   "source": [
    "stable_benchmarks_energy = summary_frame_energy[summary_frame_energy[\"CV\"] < 0.1].index\n",
    "stable_benchmarks_energy"
   ]
  },
  {
   "cell_type": "code",
   "execution_count": null,
   "metadata": {},
   "outputs": [],
   "source": [
    "for benchmark in benchmarks:\n",
    "    plot_benchmark_results(benchmark, no_o0)"
   ]
  }
 ],
 "metadata": {
  "kernelspec": {
   "display_name": "Python 3",
   "language": "python",
   "name": "python3"
  },
  "language_info": {
   "codemirror_mode": {
    "name": "ipython",
    "version": 3
   },
   "file_extension": ".py",
   "mimetype": "text/x-python",
   "name": "python",
   "nbconvert_exporter": "python",
   "pygments_lexer": "ipython3",
   "version": "3.6.4"
  }
 },
 "nbformat": 4,
 "nbformat_minor": 2
}
