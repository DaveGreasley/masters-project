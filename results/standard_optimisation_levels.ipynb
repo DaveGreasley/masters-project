{
 "cells": [
  {
   "cell_type": "code",
   "execution_count": null,
   "metadata": {},
   "outputs": [],
   "source": [
    "import pandas as pd\n",
    "import numpy as np\n",
    "import matplotlib.pyplot as plt\n",
    "%matplotlib inline"
   ]
  },
  {
   "cell_type": "code",
   "execution_count": null,
   "metadata": {},
   "outputs": [],
   "source": [
    "data = pd.read_csv(\"fix_flags.bc.20180710-154826.csv\")\n",
    "data.rename(columns=lambda x:x.strip(), inplace=True) # Remove whitespace from column headers\n",
    "data.loc[:, 'Energy'] *= 1e-6 # Convert energy to Joules\n",
    "data.head()"
   ]
  },
  {
   "cell_type": "code",
   "execution_count": null,
   "metadata": {},
   "outputs": [],
   "source": [
    "# Find all runs that failed\n",
    "failed = data[data['Success'] == False]\n",
    "failed.head()"
   ]
  },
  {
   "cell_type": "code",
   "execution_count": null,
   "metadata": {},
   "outputs": [],
   "source": [
    "no_o0 = data[data[\"Flags\"] != \"-O0\"]"
   ]
  },
  {
   "cell_type": "code",
   "execution_count": null,
   "metadata": {},
   "outputs": [],
   "source": [
    "def plot_benchmark_results(benchmark, frame):\n",
    "    data = frame[frame[\"Benchmark\"] == benchmark]\n",
    "    \n",
    "    flags = ['O1', 'O2', 'O3']\n",
    "    markers = ['x', 'o', 'v']\n",
    "    \n",
    "    fig, ax = plt.subplots()\n",
    "    for i in range(len(flags)):\n",
    "        flag = flags[i]\n",
    "        marker = markers[i]\n",
    "        \n",
    "        flag_data = data[data[\"Flags\"] == \"-\" + flag]\n",
    "        \n",
    "        x = flag_data[\"Time\"].values\n",
    "        y = flag_data[\"Energy\"].values\n",
    "        \n",
    "        ax.scatter(x, y, marker=marker, label=flag)\n",
    "\n",
    "    plt.legend()        \n",
    "    plt.xlabel('Time (s)')\n",
    "    plt.ylabel('Energy (J)')\n",
    "    plt.title('Energy vs Time for ' + benchmark + ' benchmark')\n"
   ]
  },
  {
   "cell_type": "code",
   "execution_count": null,
   "metadata": {},
   "outputs": [],
   "source": [
    "benchmarks = data[\"Benchmark\"].unique()\n",
    "\n",
    "for benchmark in benchmarks:\n",
    "    plot_benchmark_results(benchmark, no_o0)"
   ]
  }
 ],
 "metadata": {
  "kernelspec": {
   "display_name": "Python 3",
   "language": "python",
   "name": "python3"
  },
  "language_info": {
   "codemirror_mode": {
    "name": "ipython",
    "version": 3
   },
   "file_extension": ".py",
   "mimetype": "text/x-python",
   "name": "python",
   "nbconvert_exporter": "python",
   "pygments_lexer": "ipython3",
   "version": "3.6.4"
  }
 },
 "nbformat": 4,
 "nbformat_minor": 2
}
