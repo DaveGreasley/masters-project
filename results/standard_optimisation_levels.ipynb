{
 "cells": [
  {
   "cell_type": "code",
   "execution_count": null,
   "metadata": {},
   "outputs": [],
   "source": [
    "import pandas as pd\n",
    "import numpy as np\n",
    "import matplotlib.pyplot as plt\n",
    "%matplotlib inline"
   ]
  },
  {
   "cell_type": "code",
   "execution_count": null,
   "metadata": {},
   "outputs": [],
   "source": [
    "spec_data = [\n",
    "    (pd.read_csv(\"fix_flags.bc.20180813-135517.false.csv\"), 'false'),\n",
    "    (pd.read_csv(\"fix_flags.bc.20180812-142333.spread.csv\"), 'spread'),\n",
    "    (pd.read_csv(\"fix_flags.bc.20180813-025019.close.csv\"), 'close'),\n",
    "    (pd.read_csv(\"fix_flags.bc.20180814-034312.true.csv\"), 'true')\n",
    "]\n",
    "npb_data = [\n",
    "    (pd.read_csv(\"fix_flags.bc.20180813-124212.false.csv\"), 'false'),\n",
    "    (pd.read_csv(\"fix_flags.bc.20180812-142221.spread.csv\"), 'spread'),\n",
    "    (pd.read_csv(\"fix_flags.bc.20180812-204259.close.csv\"), 'close'),\n",
    "    (pd.read_csv(\"fix_flags.bc.20180814-034012.true.csv\"), 'true')\n",
    "]"
   ]
  },
  {
   "cell_type": "code",
   "execution_count": null,
   "metadata": {},
   "outputs": [],
   "source": [
    "flags = ['O1', 'O2', 'O3']\n",
    "markers = ['x', 'o', 'v']\n",
    "\n",
    "def compare_results(frames):\n",
    "    benchmarks = frames[0][0][\"Benchmark\"].unique()\n",
    "    \n",
    "    rows = len(benchmarks)\n",
    "    columns = len(frames)\n",
    "\n",
    "    fig = plt.figure(figsize=(8.0*columns, 6.0*rows))\n",
    "    \n",
    "    benchmark_axes = {}\n",
    "    \n",
    "    for i, (frame, label) in enumerate(frames):\n",
    "        frame.loc[:, 'Energy'] *= 1e-6 # Convert energy to Joules\n",
    "        \n",
    "        plot_pos = i + 1\n",
    "        \n",
    "        for benchmark in benchmarks:\n",
    "            benchmark_data = frame[frame[\"Benchmark\"] == benchmark]\n",
    "            \n",
    "            if benchmark in benchmark_axes:\n",
    "                ax = fig.add_subplot(rows, columns, plot_pos, sharex=benchmark_axes[benchmark], sharey=benchmark_axes[benchmark])\n",
    "            else:\n",
    "                ax = fig.add_subplot(rows, columns, plot_pos)\n",
    "                benchmark_axes[benchmark] = ax\n",
    "                \n",
    "            plot_pos += columns\n",
    "            \n",
    "            for k, flag in enumerate(flags):\n",
    "\n",
    "                marker = markers[k]\n",
    "\n",
    "                flag_data = benchmark_data[benchmark_data[\"Flags\"] == \"-\" + flag]\n",
    "\n",
    "                x = flag_data[\"Time\"].values\n",
    "                y = flag_data[\"Energy\"].values\n",
    "\n",
    "                ax.scatter(x, y, marker=marker, label=flag)\n",
    "            \n",
    "            ax.legend()\n",
    "            ax.set_title(benchmark + ', proc_bind=' + label)\n"
   ]
  },
  {
   "cell_type": "code",
   "execution_count": null,
   "metadata": {},
   "outputs": [],
   "source": [
    "compare_results(spec_data)"
   ]
  },
  {
   "cell_type": "code",
   "execution_count": null,
   "metadata": {},
   "outputs": [],
   "source": [
    "compare_results(npb_data)"
   ]
  },
  {
   "cell_type": "code",
   "execution_count": null,
   "metadata": {},
   "outputs": [],
   "source": [
    "def plot_benchmark_results(benchmark, frame):\n",
    "    data = frame[frame[\"Benchmark\"] == benchmark]\n",
    "    \n",
    "    flags = ['O1', 'O2', 'O3']\n",
    "    markers = ['x', 'o', 'v']\n",
    "    \n",
    "    fig, ax = plt.subplots()\n",
    "    for i in range(len(flags)):\n",
    "        flag = flags[i]\n",
    "        marker = markers[i]\n",
    "        \n",
    "        flag_data = data[data[\"Flags\"] == \"-\" + flag]\n",
    "        \n",
    "        x = flag_data[\"Time\"].values\n",
    "        y = flag_data[\"Energy\"].values\n",
    "        \n",
    "        ax.scatter(x, y, marker=marker, label=flag)\n",
    "\n",
    "    plt.legend()        \n",
    "    plt.xlabel('Time (s)')\n",
    "    plt.ylabel('Energy (J)')\n",
    "    plt.title('Energy vs Time for ' + benchmark + ' benchmark')\n",
    "\n",
    "def summary(data, variable):\n",
    "    mean = np.mean(data[variable].values)\n",
    "    median = np.median(data[variable].values)\n",
    "    min = np.min(data[variable].values)\n",
    "    max = np.max(data[variable].values)\n",
    "    range = max - min\n",
    "    relative_range = range / mean * 100\n",
    "    std = np.std(data[variable].values)\n",
    "    coeff_var = std / mean * 100\n",
    "    \n",
    "    return [mean, median, min, max, range, relative_range, std, coeff_var]\n",
    "\n",
    "def summary_frame(array):\n",
    "    return pd.DataFrame(array[:,1:], \n",
    "                       index=array[:,0],\n",
    "                       dtype=float,\n",
    "                       columns=['Mean', 'Median', 'Min', 'Max', 'Range', 'Relative Range', 'Std', 'CV'])"
   ]
  }
 ],
 "metadata": {
  "kernelspec": {
   "display_name": "Python 3",
   "language": "python",
   "name": "python3"
  },
  "language_info": {
   "codemirror_mode": {
    "name": "ipython",
    "version": 3
   },
   "file_extension": ".py",
   "mimetype": "text/x-python",
   "name": "python",
   "nbconvert_exporter": "python",
   "pygments_lexer": "ipython3",
   "version": "3.6.4"
  }
 },
 "nbformat": 4,
 "nbformat_minor": 2
}
