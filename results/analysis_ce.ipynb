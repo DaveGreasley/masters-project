{
 "cells": [
  {
   "cell_type": "code",
   "execution_count": null,
   "metadata": {},
   "outputs": [],
   "source": [
    "import pandas as pd\n",
    "import numpy as np\n",
    "import matplotlib.pyplot as plt\n",
    "from textwrap import wrap\n",
    "\n",
    "# Add parent directory to sys.path in order to find common module\n",
    "import sys\n",
    "sys.path.insert(0,'../')\n",
    "\n",
    "import common.datautils as datautils"
   ]
  },
  {
   "cell_type": "code",
   "execution_count": null,
   "metadata": {},
   "outputs": [],
   "source": [
    "average_data = datautils.load_ce_results('CE.results.zip')\n",
    "average_data.head()"
   ]
  },
  {
   "cell_type": "code",
   "execution_count": null,
   "metadata": {},
   "outputs": [],
   "source": [
    "benchmarks = average_data[\"Benchmark\"].unique()\n",
    "print(benchmarks)"
   ]
  },
  {
   "cell_type": "markdown",
   "metadata": {},
   "source": [
    "### CE Overview"
   ]
  },
  {
   "cell_type": "code",
   "execution_count": null,
   "metadata": {},
   "outputs": [],
   "source": [
    "def improvement_data_frame(data, include_negative):\n",
    "    improvement = []\n",
    "    \n",
    "    for benchmark in benchmarks:\n",
    "        benchmark_data = data[data[\"Benchmark\"] == benchmark]\n",
    "\n",
    "        initial_data = benchmark_data[benchmark_data[\"Flags\"] == '-O3']\n",
    "        initial_energy = initial_data.iloc[0][\"Energy\"]\n",
    "        initial_time = initial_data.iloc[0][\"Time\"]\n",
    "\n",
    "        baseline_data = benchmark_data[benchmark_data[\"Type\"] == 'baseline']\n",
    "        if len(baseline_data) > 0:\n",
    "            final_baseline_index = baseline_data[\"RunId\"].idxmax()\n",
    "            final_energy = baseline_data.loc[final_baseline_index][\"Energy\"]\n",
    "            final_time = baseline_data.loc[final_baseline_index][\"Time\"]\n",
    "        else:\n",
    "            final_energy = initial_energy\n",
    "            final_time = initial_time\n",
    "    \n",
    "        energy_improvement = (1 - final_energy / initial_energy) * 100\n",
    "        time_improvement = (1 - final_time / initial_time )  * 100\n",
    "        time_speedup = initial_time / final_time \n",
    "        \n",
    "        if not include_negative:\n",
    "            if energy_improvement < 0:\n",
    "                energy_improvement = 0\n",
    "            \n",
    "            if time_improvement < 0:\n",
    "                time_improvement = 0\n",
    "                time_speedup = 0\n",
    "            \n",
    "        \n",
    "        improvement.append(\n",
    "            [\n",
    "                int(np.round(energy_improvement)),\n",
    "                int(np.round(time_improvement)),\n",
    "#                 'Time speedup': np.round(time_speedup)\n",
    "            ])\n",
    "\n",
    "    return pd.DataFrame(improvement, index=benchmarks, columns=['Energy Improvement', 'Time Improvement'])\n",
    "\n",
    "def time_overview(data):\n",
    "    benchmark_times = []\n",
    "    \n",
    "    for benchmark in benchmarks:\n",
    "        benchmark_data = data[data[\"Benchmark\"] == benchmark]\n",
    "        \n",
    "        num_baseline_updates = len(benchmark_data[benchmark_data[\"Type\"] == 'baseline'])\n",
    "        total_runs = len(benchmark_data)\n",
    "        total_time = np.sum(benchmark_data[\"Time\"])\n",
    "        total_energy = np.sum(benchmark_data[\"Energy\"])\n",
    "        \n",
    "        benchmark_times.append(\n",
    "            [\n",
    "                num_baseline_updates,\n",
    "                total_runs,\n",
    "                np.round(total_time / 60 / 60, 2), # Time in hours\n",
    "#                 np.round(total_energy / 1000 / 1000, 2)  # Energy in Mega Joules\n",
    "            ])\n",
    "    \n",
    "    return pd.DataFrame(benchmark_times,\n",
    "                        index=benchmarks, \n",
    "                        columns=[\n",
    "                            'Number of Baseline Updates',\n",
    "                            'Total Runs',\n",
    "                            'Total run time', \n",
    "#                             'Total energy consumed'\n",
    "                        ])"
   ]
  },
  {
   "cell_type": "code",
   "execution_count": null,
   "metadata": {},
   "outputs": [],
   "source": [
    "def show_overview(data, include_negative):\n",
    "    improvement = improvement_data_frame(data, False)\n",
    "    time = time_overview(data)\n",
    "    \n",
    "    average_energy_improvement = np.mean(improvement[\"Energy Improvement\"])\n",
    "    average_time_improvement = np.mean(improvement[\"Time Improvement\"])\n",
    "    \n",
    "    num_energy_improvement = len(improvement[improvement[\"Energy Improvement\"] > 0])\n",
    "    num_time_improvement = len(improvement[improvement[\"Time Improvement\"] > 0])\n",
    "    num_energy_time_different = len(improvement[improvement[\"Time Improvement\"] == improvement[\"Energy Improvement\"]])\n",
    "\n",
    "    print(f\"Average energy improvement: {average_energy_improvement}\")\n",
    "    print(f\"Average time improvement: {average_time_improvement}\")\n",
    "    print(f\"Benchmarks with energy improvement: {num_energy_improvement}\")\n",
    "    print(f\"Benchmarks with time improvement: {num_time_improvement}\")\n",
    "    print(f\"Energy != Time: {num_energy_time_different}\")\n",
    "\n",
    "    total_runtime = np.sum(time[\"Total run time\"])\n",
    "#     total_energy = np.sum(time[\"Total energy consumed\"])\n",
    "    \n",
    "    print(\"\")\n",
    "    print(f\"Total Run Time: {total_runtime} hours\")\n",
    "#     print(f\"Total Energy: {total_energy}\")\n",
    "    \n",
    "    imp_energy = improvement[\"Energy Improvement\"].values.reshape(-1, 1)\n",
    "    imp_time = improvement[\"Time Improvement\"].values.reshape(-1, 1)\n",
    "\n",
    "    plt.figure()\n",
    "    plt.boxplot(np.concatenate((imp_energy, imp_time), axis=1))\n",
    "    plt.show()\n",
    "\n",
    "    return pd.concat([improvement, time], axis=1)\n",
    "\n",
    "show_overview(average_data, False)"
   ]
  },
  {
   "cell_type": "markdown",
   "metadata": {},
   "source": [
    "### Find best configuration for Energy"
   ]
  },
  {
   "cell_type": "code",
   "execution_count": null,
   "metadata": {},
   "outputs": [],
   "source": [
    "for benchmark in benchmarks:\n",
    "    print(benchmark)\n",
    "    print(datautils.best_configuration('Energy', benchmark, average_data))\n",
    "    print('-----')"
   ]
  },
  {
   "cell_type": "markdown",
   "metadata": {},
   "source": [
    "### Compare Energy vs Time"
   ]
  },
  {
   "cell_type": "code",
   "execution_count": null,
   "metadata": {},
   "outputs": [],
   "source": [
    "def plot_energy_vs_time(benchmark, data):\n",
    "    benchmark_data = data.loc[data[\"Benchmark\"] == benchmark]\n",
    "    o3_data = benchmark_data.loc[benchmark_data[\"Flags\"] == \"-O3\"]\n",
    "    non_o3_data = benchmark_data.loc[benchmark_data[\"Flags\"] != \"-O3\"]\n",
    "    \n",
    "    X = non_o3_data[\"Time\"].values\n",
    "    Y = non_o3_data[\"Energy\"].values\n",
    "    \n",
    "    plt.figure()\n",
    "    plt.scatter(X, Y, label='CE Configurations')\n",
    "    plt.scatter(o3_data[\"Time\"].values, o3_data[\"Energy\"].values, c='r', label='-O3')\n",
    "    plt.title('Energy vs Time results for CE on ' + benchmark)\n",
    "    plt.legend()\n",
    "    plt.grid()\n",
    "    plt.xlabel('Time (s)')\n",
    "    plt.ylabel('Energy (J)')"
   ]
  },
  {
   "cell_type": "code",
   "execution_count": null,
   "metadata": {},
   "outputs": [],
   "source": [
    "print(len(benchmarks))"
   ]
  },
  {
   "cell_type": "code",
   "execution_count": null,
   "metadata": {},
   "outputs": [],
   "source": [
    "for benchmark in benchmarks:\n",
    "    plot_energy_vs_time(benchmark, average_data)"
   ]
  },
  {
   "cell_type": "markdown",
   "metadata": {},
   "source": [
    "### Compare Baseline Updates"
   ]
  },
  {
   "cell_type": "code",
   "execution_count": null,
   "metadata": {},
   "outputs": [],
   "source": [
    "def plot_energy_vs_runs(benchmark, data):\n",
    "    benchmark_data = data.loc[(data[\"Benchmark\"] == benchmark) & ((data[\"Type\"] == 'baseline') | (data[\"Type\"] == 'initial'))].sort_values('RunId')\n",
    "    \n",
    "    X = np.arange(1, len(benchmark_data) + 1)\n",
    "    Y = benchmark_data[\"Energy\"].values\n",
    "    \n",
    "    plt.figure()\n",
    "    plt.plot(X, Y)\n",
    "    plt.title('\\n'.join(wrap('Energy vs Baseline Number for Combined Elimination on ' + benchmark, 50)))\n",
    "    plt.xlabel('Baseline Number')\n",
    "    plt.ylabel('Energy (J)')\n",
    "    plt.grid()"
   ]
  },
  {
   "cell_type": "code",
   "execution_count": null,
   "metadata": {},
   "outputs": [],
   "source": [
    "for benchmark in benchmarks:\n",
    "    plot_energy_vs_runs(benchmark, average_data)"
   ]
  },
  {
   "cell_type": "markdown",
   "metadata": {},
   "source": [
    "### Compare best improvement of Energy and time to O3 baseline"
   ]
  },
  {
   "cell_type": "code",
   "execution_count": null,
   "metadata": {},
   "outputs": [],
   "source": [
    "def o3_relative_data(average_data, benchmarks):\n",
    "    o3_data = average_data.loc[average_data[\"Flags\"] == \"-O3\"]\n",
    "    \n",
    "    relative_data = average_data.copy(deep=True)\n",
    "    \n",
    "    for benchmark in benchmarks:\n",
    "        o3 = o3_data.loc[relative_data[\"Benchmark\"] == benchmark]\n",
    "        o3_energy = o3.iloc[0][\"Energy\"]\n",
    "        o3_time = o3.iloc[0][\"Time\"]\n",
    "\n",
    "        relative_data.loc[relative_data[\"Benchmark\"] == benchmark, \"Energy\"] /= o3_energy\n",
    "        relative_data.loc[relative_data[\"Benchmark\"] == benchmark, \"Time\"] /= o3_time\n",
    "\n",
    "    return relative_data[relative_data[\"Flags\"] != '-O3']\n"
   ]
  },
  {
   "cell_type": "code",
   "execution_count": null,
   "metadata": {},
   "outputs": [],
   "source": [
    "relative_data = o3_relative_data(average_data, benchmarks)"
   ]
  },
  {
   "cell_type": "code",
   "execution_count": null,
   "metadata": {},
   "outputs": [],
   "source": [
    "def plot_relative_to_o3(variable, relative_data, benchmarks):\n",
    "    X = benchmarks\n",
    "    Y = [relative_data.loc[relative_data[\"Benchmark\"] == benchmark, variable].min() for benchmark in benchmarks]\n",
    "\n",
    "    plt.figure(figsize=(8,6))\n",
    "    plt.scatter(X, Y, marker='x', label='CE')\n",
    "    plt.axhline(1, label='O3')\n",
    "    \n",
    "    plt.title('Best improvement of ' + variable + ' relative to -O3 found be CE.')\n",
    "    plt.ylabel(variable + ' (relative to -O3)')\n",
    "    plt.xticks(rotation=90)\n",
    "    plt.legend()\n",
    "    \n",
    "def double_plot_relative_to_o3(relative_data, benchmarks):\n",
    "    X = benchmarks\n",
    "    energy = [relative_data.loc[relative_data[\"Benchmark\"] == benchmark, 'Energy'].min() for benchmark in benchmarks]\n",
    "    time = [relative_data.loc[relative_data[\"Benchmark\"] == benchmark, 'Time'].min() for benchmark in benchmarks]\n",
    "    \n",
    "\n",
    "    plt.figure(figsize=(16, 8))\n",
    "    plt.scatter(X, energy, marker='o', label='Energy')\n",
    "    plt.scatter(X, time, marker='x', label='Time')\n",
    "    \n",
    "    plt.axhline(1, label='O3')\n",
    "    \n",
    "    plt.title('Effect of best configuration found by CE on Energy and Time relative to -O3.')\n",
    "    plt.ylabel('Relative to -O3)')\n",
    "    plt.xticks(rotation=90)\n",
    "    plt.yticks(np.arange(0.5, 1.5, 0.1))\n",
    "    plt.legend()\n",
    "    plt.grid()"
   ]
  },
  {
   "cell_type": "code",
   "execution_count": null,
   "metadata": {},
   "outputs": [],
   "source": [
    "double_plot_relative_to_o3(relative_data, benchmarks)"
   ]
  },
  {
   "cell_type": "code",
   "execution_count": null,
   "metadata": {},
   "outputs": [],
   "source": [
    "plot_relative_to_o3('Energy', relative_data, benchmarks)\n",
    "plot_relative_to_o3('Time', relative_data, benchmarks)"
   ]
  }
 ],
 "metadata": {
  "kernelspec": {
   "display_name": "Python 3",
   "language": "python",
   "name": "python3"
  },
  "language_info": {
   "codemirror_mode": {
    "name": "ipython",
    "version": 3
   },
   "file_extension": ".py",
   "mimetype": "text/x-python",
   "name": "python",
   "nbconvert_exporter": "python",
   "pygments_lexer": "ipython3",
   "version": "3.6.4"
  }
 },
 "nbformat": 4,
 "nbformat_minor": 2
}
